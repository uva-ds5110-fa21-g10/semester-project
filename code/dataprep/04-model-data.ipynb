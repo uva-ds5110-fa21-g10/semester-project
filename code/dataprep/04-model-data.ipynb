{
 "cells": [
  {
   "cell_type": "markdown",
   "metadata": {},
   "source": [
    "# Exporatory Analytics of Dataset\n",
    "\n",
    "## DS 5110\n",
    "* Fall 2021\n",
    "* October 3rd\n",
    "* Group 10\n",
    "  * Antone Edelman\n",
    "  * Xin Huang\n",
    "  * Robert Knuuti"
   ]
  },
  {
   "cell_type": "code",
   "execution_count": 1,
   "metadata": {},
   "outputs": [],
   "source": [
    "from pyspark.sql import SparkSession\n",
    "import pyspark.sql.functions as F\n",
    "import pyspark.sql.types as T\n",
    "\n",
    "import pandas as pd\n",
    "import numpy as np\n",
    "\n",
    "spark = SparkSession.builder \\\n",
    "    .master(\"local[*]\") \\\n",
    "    .appName(\"fa21-ds5110-group10\") \\\n",
    "    .getOrCreate()\n",
    "\n",
    "#    .config(\"spark.sql.parquet.compression.codec\", \"uncompressed\") \\\n",
    "\n",
    "\n",
    "df = spark.read.parquet(\"../../data/processed/chess_games_blitz_classic.parquet\")"
   ]
  },
  {
   "cell_type": "markdown",
   "metadata": {},
   "source": [
    "There's some additional cleanup we have to do beyond the filtering of games to just classic and blitz.\n",
    "Below are our transforms to add new features and to transform the data."
   ]
  },
  {
   "cell_type": "code",
   "execution_count": 3,
   "metadata": {},
   "outputs": [
    {
     "name": "stdout",
     "output_type": "stream",
     "text": [
      "root\n",
      " |-- event: string (nullable = true)\n",
      " |-- white: string (nullable = true)\n",
      " |-- black: string (nullable = true)\n",
      " |-- result: string (nullable = true)\n",
      " |-- UTCDate: date (nullable = true)\n",
      " |-- UTCTime: string (nullable = true)\n",
      " |-- WhiteElo: integer (nullable = true)\n",
      " |-- BlackElo: integer (nullable = true)\n",
      " |-- WhiteRatingDiff: double (nullable = true)\n",
      " |-- BlackRatingDiff: double (nullable = true)\n",
      " |-- ECO: string (nullable = true)\n",
      " |-- Opening: string (nullable = true)\n",
      " |-- TimeControl: string (nullable = true)\n",
      " |-- Termination: string (nullable = true)\n",
      " |-- AN: string (nullable = true)\n",
      "\n",
      "Abandoned Games to drop: 739\n",
      "Refined schema\n",
      "-------------------\n",
      "root\n",
      " |-- event: string (nullable = true)\n",
      " |-- white: string (nullable = true)\n",
      " |-- black: string (nullable = true)\n",
      " |-- result: string (nullable = true)\n",
      " |-- UTCDate: date (nullable = true)\n",
      " |-- UTCTime: string (nullable = true)\n",
      " |-- WhiteElo: integer (nullable = true)\n",
      " |-- BlackElo: integer (nullable = true)\n",
      " |-- WhiteRatingDiff: double (nullable = true)\n",
      " |-- BlackRatingDiff: double (nullable = true)\n",
      " |-- ECO: string (nullable = true)\n",
      " |-- Opening: string (nullable = true)\n",
      " |-- TimeControl: string (nullable = true)\n",
      " |-- Termination: string (nullable = true)\n",
      " |-- AN: string (nullable = true)\n",
      " |-- moves: array (nullable = true)\n",
      " |    |-- element: string (containsNull = true)\n",
      " |-- white_games_won: double (nullable = true)\n",
      " |-- black_games_won: double (nullable = true)\n",
      " |-- tie: boolean (nullable = true)\n",
      " |-- result_moves: integer (nullable = false)\n",
      " |-- game_complexity: integer (nullable = false)\n",
      " |-- EloDiff: integer (nullable = true)\n",
      " |-- first_ten: array (nullable = true)\n",
      " |    |-- element: string (containsNull = true)\n",
      " |-- first_two: array (nullable = true)\n",
      " |    |-- element: string (containsNull = true)\n",
      " |-- white_result: string (nullable = false)\n",
      "\n"
     ]
    }
   ],
   "source": [
    "df.printSchema()\n",
    "\n",
    "print(\"Abandoned Games to drop: {}\".format(df.filter(F.col(\"result\").contains(\"*\")).count()))\n",
    "# Remove all abandoned games.\n",
    "df_filtered = df.filter(~F.col(\"result\").contains(\"*\"))\n",
    "\n",
    "from fractions import Fraction as frac\n",
    "\n",
    "# We break apar the AN notation for chess moves into arrays\n",
    "def movetype(x):\n",
    "    import re\n",
    "    moves = re.split('\\d+\\. ', x)[1:]\n",
    "    return [x.strip() for x in moves]\n",
    "\n",
    "\n",
    "udf_movetype = F.udf(lambda x: movetype(x), T.ArrayType(T.StringType()))\n",
    "df_filtered = df_filtered.withColumn('moves', udf_movetype(F.col('AN')))\n",
    "\n",
    "# Convert result column into seperate white/black win columns\n",
    "white_win_udf = F.udf(lambda result: float(frac(result.split('-')[0])), T.DoubleType())\n",
    "df_filtered = df_filtered.withColumn(\"white_games_won\", white_win_udf(F.col(\"result\")))\n",
    "black_win_udf = F.udf(lambda result: float(frac(result.split('-')[1])), T.DoubleType())\n",
    "df_filtered = df_filtered.withColumn(\"black_games_won\", black_win_udf(F.col(\"result\")))\n",
    "df_filtered = df_filtered.withColumn(\"tie\", F.col(\"white_games_won\") == F.col(\"black_games_won\"))\n",
    "\n",
    "# Identify the total number of moves in a game\n",
    "df_filtered = df_filtered.withColumn(\"result_moves\", F.size(F.col(\"moves\")))\n",
    "# Categorize games based upon total move size.\n",
    "df_filtered = df_filtered.withColumn(\"game_complexity\",\n",
    "                                     F.when(F.col(\"result_moves\") ==  1, 1)\\\n",
    "                                      .when(F.col(\"result_moves\") <= 10, 2)\\\n",
    "                                      .when(F.col(\"result_moves\") <= 20, 3)\\\n",
    "                                      .when(F.col(\"result_moves\") <= 30, 4)\\\n",
    "                                      .when(F.col(\"result_moves\") <= 40, 5)\\\n",
    "                                      .when(F.col(\"result_moves\") <= 50, 6)\\\n",
    "                                      .otherwise(7))\n",
    "\n",
    "df_filtered = df_filtered.withColumn(\"EloDiff\", F.col(\"WhiteElo\") - F.col(\"BlackElo\"))\n",
    "\n",
    "\n",
    "# Collect only the first subset of moves in a game\n",
    "df_filtered = df_filtered.withColumn(\"first_ten\", F.slice(F.col(\"moves\"), 1, 10))\n",
    "df_filtered = df_filtered.withColumn(\"first_two\", F.slice(F.col(\"moves\"), 1, 2))\n",
    "\n",
    "# We establish a formal win column that we'll be using as a logistical response\n",
    "# We will not consider a tie as a win for white.\n",
    "df_filtered = df_filtered.withColumn(\"white_result\",\n",
    "                                     F.when(F.col(\"white_games_won\") > 0.5, \"win\")\\\n",
    "                                      .otherwise(\"loss\"))\n",
    "\n",
    "print(\"Refined schema\\n-------------------\")\n",
    "df_filtered.printSchema()"
   ]
  },
  {
   "cell_type": "code",
   "execution_count": 4,
   "metadata": {},
   "outputs": [
    {
     "name": "stdout",
     "output_type": "stream",
     "text": [
      "+---------+------------+---+-------+---------------+\n",
      "|    event|white_result|ECO|EloDiff|game_complexity|\n",
      "+---------+------------+---+-------+---------------+\n",
      "|    Blitz|         win|A34|    222|              6|\n",
      "|    Blitz|         win|A40|    309|              5|\n",
      "|Classical|        loss|B00|   -248|              7|\n",
      "|    Blitz|         win|C21|   -212|              4|\n",
      "|    Blitz|        loss|C22|     75|              4|\n",
      "+---------+------------+---+-------+---------------+\n",
      "only showing top 5 rows\n",
      "\n"
     ]
    }
   ],
   "source": [
    "vars_to_keep = [\"event\", \n",
    "                \"white_result\", \n",
    "#              \"WhiteElo\", \n",
    "#              \"BlackElo\", \n",
    "#              \"first_ten\",\n",
    "#              \"first_two\",\n",
    "                \"ECO\",\n",
    "                \"EloDiff\",\n",
    "#              \"Opening\",\n",
    "                \"game_complexity\"]\n",
    "\n",
    "df_filtered.select(vars_to_keep).show(5)"
   ]
  },
  {
   "cell_type": "code",
   "execution_count": 6,
   "metadata": {},
   "outputs": [],
   "source": [
    "# subset the dataframe on these predictors\n",
    "df_final = df_filtered.select(vars_to_keep)"
   ]
  },
  {
   "cell_type": "code",
   "execution_count": null,
   "metadata": {},
   "outputs": [],
   "source": [
    "df_final.write.mode(\"overwrite\").parquet(\"../../data/processed/chess_games_moves_model.parquet\")"
   ]
  }
 ],
 "metadata": {
  "kernelspec": {
   "display_name": "DS 5110 Spark 3.1",
   "language": "python",
   "name": "ds5110_spark3.1"
  },
  "language_info": {
   "codemirror_mode": {
    "name": "ipython",
    "version": 3
   },
   "file_extension": ".py",
   "mimetype": "text/x-python",
   "name": "python",
   "nbconvert_exporter": "python",
   "pygments_lexer": "ipython3",
   "version": "3.7.10"
  }
 },
 "nbformat": 4,
 "nbformat_minor": 4
}
