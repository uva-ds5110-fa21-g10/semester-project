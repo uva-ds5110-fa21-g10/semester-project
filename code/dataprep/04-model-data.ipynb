{
 "cells": [
  {
   "cell_type": "markdown",
   "metadata": {},
   "source": [
    "# Exporatory Analytics of Dataset\n",
    "\n",
    "## DS 5110\n",
    "* Fall 2021\n",
    "* October 3rd\n",
    "* Group 10\n",
    "  * Antone Edelman\n",
    "  * Xin Huang\n",
    "  * Robert Knuuti"
   ]
  },
  {
   "cell_type": "code",
   "execution_count": 1,
   "metadata": {},
   "outputs": [],
   "source": [
    "from pyspark.sql import SparkSession\n",
    "import pyspark.sql.functions as F\n",
    "import pyspark.sql.types as T\n",
    "\n",
    "import pandas as pd\n",
    "import numpy as np\n",
    "\n",
    "spark = SparkSession.builder \\\n",
    "    .master(\"local[*]\") \\\n",
    "    .appName(\"fa21-ds5110-group10\") \\\n",
    "    .getOrCreate()\n",
    "\n",
    "df = spark.read.parquet(\"../../data/processed/chess_games_blitz_classic.parquet\")"
   ]
  },
  {
   "cell_type": "markdown",
   "metadata": {},
   "source": [
    "There's some additional cleanup we have to do beyond the filtering of games to just classic and blitz.\n",
    "Below are our transforms to add new features and to transform the data."
   ]
  },
  {
   "cell_type": "code",
   "execution_count": 3,
   "metadata": {},
   "outputs": [
    {
     "name": "stdout",
     "output_type": "stream",
     "text": [
      "root\n",
      " |-- event: string (nullable = true)\n",
      " |-- white: string (nullable = true)\n",
      " |-- black: string (nullable = true)\n",
      " |-- result: string (nullable = true)\n",
      " |-- UTCDate: date (nullable = true)\n",
      " |-- UTCTime: string (nullable = true)\n",
      " |-- WhiteElo: integer (nullable = true)\n",
      " |-- BlackElo: integer (nullable = true)\n",
      " |-- WhiteRatingDiff: double (nullable = true)\n",
      " |-- BlackRatingDiff: double (nullable = true)\n",
      " |-- ECO: string (nullable = true)\n",
      " |-- Opening: string (nullable = true)\n",
      " |-- TimeControl: string (nullable = true)\n",
      " |-- Termination: string (nullable = true)\n",
      " |-- AN: string (nullable = true)\n",
      "\n",
      "Abandoned Games to drop: 739\n",
      "Refined schema\n",
      "-------------------\n",
      "root\n",
      " |-- event: string (nullable = true)\n",
      " |-- white: string (nullable = true)\n",
      " |-- black: string (nullable = true)\n",
      " |-- result: string (nullable = true)\n",
      " |-- UTCDate: date (nullable = true)\n",
      " |-- UTCTime: string (nullable = true)\n",
      " |-- WhiteElo: integer (nullable = true)\n",
      " |-- BlackElo: integer (nullable = true)\n",
      " |-- WhiteRatingDiff: double (nullable = true)\n",
      " |-- BlackRatingDiff: double (nullable = true)\n",
      " |-- ECO: string (nullable = true)\n",
      " |-- Opening: string (nullable = true)\n",
      " |-- TimeControl: string (nullable = true)\n",
      " |-- Termination: string (nullable = true)\n",
      " |-- AN: string (nullable = true)\n",
      " |-- moves: array (nullable = true)\n",
      " |    |-- element: string (containsNull = true)\n",
      " |-- white_games_won: double (nullable = true)\n",
      " |-- black_games_won: double (nullable = true)\n",
      " |-- tie: boolean (nullable = true)\n",
      " |-- result_moves: integer (nullable = true)\n",
      " |-- game_complexity: integer (nullable = true)\n",
      " |-- first_ten: array (nullable = true)\n",
      " |    |-- element: string (containsNull = true)\n",
      "\n"
     ]
    }
   ],
   "source": [
    "df.printSchema()\n",
    "\n",
    "print(\"Abandoned Games to drop: {}\".format(df.filter(df.result.contains(\"*\")).count()))\n",
    "# Remove all abandoned games.\n",
    "df_filtered = df.filter(~df.result.contains(\"*\"))\n",
    "\n",
    "from fractions import Fraction as frac\n",
    "\n",
    "# Convert result column into seperate white/black win columns\n",
    "white_win_udf = F.udf(lambda result: float(frac(result.split('-')[0])), T.DoubleType())\n",
    "black_win_udf = F.udf(lambda result: float(frac(result.split('-')[1])), T.DoubleType())\n",
    "\n",
    "# We break apar the AN notation for chess moves into arrays\n",
    "def movetype(x):\n",
    "    import re\n",
    "    moves = re.split('\\d+\\. ', x)[1:]\n",
    "    return [x.strip() for x in moves]\n",
    "\n",
    "# We establish a bin rate to determine the complexity of a match (based on number of moves)\n",
    "def bin_moves(x):\n",
    "    if x == 1:\n",
    "        return 1\n",
    "    elif x <= 10:\n",
    "        return 2\n",
    "    elif x <= 20:\n",
    "        return 3\n",
    "    elif x <= 30:\n",
    "        return 4\n",
    "    elif x <= 40:\n",
    "        return 5\n",
    "    elif x <= 50:\n",
    "        return 6\n",
    "    else:\n",
    "        return 7\n",
    "\n",
    "udf_movetype = F.udf(lambda x: movetype(x), T.ArrayType(T.StringType()))\n",
    "df_filtered = df_filtered.withColumn('moves', udf_movetype(F.col('AN')))\n",
    "\n",
    "# Calculate the total number of moves in a game\n",
    "count_udf  = F.udf(lambda result: len(result), T.IntegerType())\n",
    "game_complexity_udf = F.udf(lambda result: bin_moves(result), T.IntegerType())\n",
    "\n",
    "df_filtered = df_filtered.withColumn(\"white_games_won\", white_win_udf(df_filtered.result))\n",
    "df_filtered = df_filtered.withColumn(\"black_games_won\", black_win_udf(df_filtered.result))\n",
    "df_filtered = df_filtered.withColumn(\"tie\", df_filtered.white_games_won == df_filtered.black_games_won)\n",
    "df_filtered = df_filtered.withColumn(\"result_moves\", count_udf(df_filtered.moves))\n",
    "df_filtered = df_filtered.withColumn(\"game_complexity\", game_complexity_udf(df_filtered.result_moves))\n",
    "\n",
    "\n",
    "udf_splic_array = F.udf(lambda x: x[:10], T.ArrayType(T.StringType()))\n",
    "df_filtered=df_filtered.withColumn(\"first_ten\", udf_splic_array(F.col(\"moves\")))\n",
    "\n",
    "print(\"Refined schema\\n-------------------\")\n",
    "df_filtered.printSchema()"
   ]
  },
  {
   "cell_type": "code",
   "execution_count": 4,
   "metadata": {},
   "outputs": [],
   "source": [
    "def label_wins(x):\n",
    "    if x == 0.0:\n",
    "        return 'loss'\n",
    "    elif x == 0.5:\n",
    "        return 'tie'\n",
    "    else:\n",
    "        return 'win'\n",
    "    \n",
    "udf_label_wins = F.udf(lambda x: label_wins(x), T.StringType())\n",
    "\n",
    "df_filtered = df_filtered.withColumn(\"white_result\", udf_label_wins(df_filtered.white_games_won))"
   ]
  },
  {
   "cell_type": "code",
   "execution_count": 7,
   "metadata": {},
   "outputs": [
    {
     "name": "stdout",
     "output_type": "stream",
     "text": [
      "+---------+------------+--------+--------+--------------------+--------------------+---------------+\n",
      "|    event|white_result|WhiteElo|BlackElo|               moves|           first_ten|game_complexity|\n",
      "+---------+------------+--------+--------+--------------------+--------------------+---------------+\n",
      "|    Blitz|         win|    2068|    1846|[c4 c5, Nc3 Nf6, ...|[c4 c5, Nc3 Nf6, ...|              6|\n",
      "|    Blitz|         win|    1708|    1399|[d4 b6, c4 Bb7, N...|[d4 b6, c4 Bb7, N...|              5|\n",
      "|Classical|        loss|    1542|    1790|[e4 Nc6, d4 d5, e...|[e4 Nc6, d4 d5, e...|              7|\n",
      "|    Blitz|         win|    1467|    1679|[e4 e5, d4 exd4, ...|[e4 e5, d4 exd4, ...|              4|\n",
      "|    Blitz|        loss|    1249|    1174|[e4 e5, d4 exd4, ...|[e4 e5, d4 exd4, ...|              4|\n",
      "+---------+------------+--------+--------+--------------------+--------------------+---------------+\n",
      "only showing top 5 rows\n",
      "\n"
     ]
    }
   ],
   "source": [
    "vars_to_keep = [\"event\", \n",
    "              \"white_result\", \n",
    "              \"WhiteElo\", \n",
    "              \"BlackElo\", \n",
    "              \"first_ten\",\n",
    "              \"game_complexity\",\n",
    "               ]\n",
    "\n",
    "df_filtered.select(vars_to_keep).show(5)"
   ]
  },
  {
   "cell_type": "code",
   "execution_count": 8,
   "metadata": {},
   "outputs": [],
   "source": [
    "# Select variables\n",
    "vars_to_keep = [\"event\", \n",
    "              \"white_result\", \n",
    "              \"WhiteElo\", \n",
    "              \"BlackElo\", \n",
    "              \"first_ten\",\n",
    "              \"game_complexity\",\n",
    "               ]\n",
    "\n",
    "# subset the dataframe on these predictors\n",
    "df_final=df_filtered.select(vars_to_keep)"
   ]
  },
  {
   "cell_type": "code",
   "execution_count": 9,
   "metadata": {},
   "outputs": [],
   "source": [
    "df_final.write.mode(\"overwrite\").parquet(\"../../data/processed/chess_games_moves_model.parquet\")"
   ]
  }
 ],
 "metadata": {
  "kernelspec": {
   "display_name": "DS 5110 Spark 3.1",
   "language": "python",
   "name": "ds5110_spark3.1"
  },
  "language_info": {
   "codemirror_mode": {
    "name": "ipython",
    "version": 3
   },
   "file_extension": ".py",
   "mimetype": "text/x-python",
   "name": "python",
   "nbconvert_exporter": "python",
   "pygments_lexer": "ipython3",
   "version": "3.7.10"
  }
 },
 "nbformat": 4,
 "nbformat_minor": 4
}
