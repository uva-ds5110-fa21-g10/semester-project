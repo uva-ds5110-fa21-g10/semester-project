{
 "cells": [
  {
   "cell_type": "markdown",
   "metadata": {},
   "source": [
    "# Experement 2 - Naive Bayes\n",
    "\n",
    "## DS 5110\n",
    "* Fall 2021\n",
    "* Robert Knuuti"
   ]
  },
  {
   "cell_type": "code",
   "execution_count": 1,
   "metadata": {},
   "outputs": [],
   "source": [
    "from pyspark.sql import SparkSession\n",
    "from pyspark.sql import functions as F\n",
    "from pyspark.sql import types as T\n",
    "\n",
    "from pyspark.ml import Pipeline\n",
    "from pyspark.ml.feature import CountVectorizer\n",
    "from pyspark.ml.feature import StringIndexer\n",
    "from pyspark.ml.feature import OneHotEncoder\n",
    "from pyspark.ml.feature import VectorAssembler\n",
    "\n",
    "from pyspark.ml.tuning import ParamGridBuilder\n",
    "from pyspark.ml.tuning import CrossValidator\n",
    "\n",
    "from pyspark.ml.classification import NaiveBayes\n",
    "from pyspark.ml.evaluation import BinaryClassificationEvaluator\n",
    "from pyspark.mllib.evaluation import MulticlassMetrics\n",
    "\n",
    "import pandas as pd\n",
    "import numpy as np\n",
    "import seaborn as sns\n",
    "from fractions import Fraction as frac"
   ]
  },
  {
   "cell_type": "code",
   "execution_count": 2,
   "metadata": {},
   "outputs": [],
   "source": [
    "%matplotlib inline"
   ]
  },
  {
   "cell_type": "code",
   "execution_count": 3,
   "metadata": {},
   "outputs": [],
   "source": [
    "spark = SparkSession.builder \\\n",
    "    .master(\"local[*]\") \\\n",
    "    .appName(\"fa21-ds5110-group10-rk\") \\\n",
    "    .config(\"spark.driver.memory\", \"12g\") \\\n",
    "    .getOrCreate()"
   ]
  },
  {
   "cell_type": "code",
   "execution_count": 4,
   "metadata": {},
   "outputs": [
    {
     "data": {
      "text/html": [
       "\n",
       "        <div>\n",
       "            <p><b>SparkContext</b></p>\n",
       "\n",
       "            <p><a href=\"http://udc-ba33-31c0:4041\">Spark UI</a></p>\n",
       "\n",
       "            <dl>\n",
       "              <dt>Version</dt>\n",
       "                <dd><code>v3.1.2</code></dd>\n",
       "              <dt>Master</dt>\n",
       "                <dd><code>local[*]</code></dd>\n",
       "              <dt>AppName</dt>\n",
       "                <dd><code>fa21-ds5110-group10-rk</code></dd>\n",
       "            </dl>\n",
       "        </div>\n",
       "        "
      ],
      "text/plain": [
       "<SparkContext master=local[*] appName=fa21-ds5110-group10-rk>"
      ]
     },
     "execution_count": 4,
     "metadata": {},
     "output_type": "execute_result"
    }
   ],
   "source": [
    "spark.sparkContext"
   ]
  },
  {
   "cell_type": "markdown",
   "metadata": {},
   "source": [
    "First, let's load our preformatted dataset from dataprep and the prepartitioned divided training and test data."
   ]
  },
  {
   "cell_type": "code",
   "execution_count": 5,
   "metadata": {},
   "outputs": [],
   "source": [
    "df = spark.read.parquet(\"../../../data/processed/chess_games_moves_model.parquet\")\n",
    "trainData = spark.read.parquet(\"../../../data/processed/training.parquet\")\n",
    "testData = spark.read.parquet(\"../../../data/processed/testing.parquet\")"
   ]
  },
  {
   "cell_type": "markdown",
   "metadata": {},
   "source": [
    "Next we'll cache the training dataframe as we'll be running cross validation against its data."
   ]
  },
  {
   "cell_type": "code",
   "execution_count": 6,
   "metadata": {},
   "outputs": [
    {
     "data": {
      "text/plain": [
       "DataFrame[event: string, white_result: string, first_two: array<string>, ECO: string, EloDiff: int, Opening: string, game_complexity: int, opening_class: string]"
      ]
     },
     "execution_count": 6,
     "metadata": {},
     "output_type": "execute_result"
    }
   ],
   "source": [
    "trainData.cache()"
   ]
  },
  {
   "cell_type": "markdown",
   "metadata": {},
   "source": [
    "Next we'll be defining our features vectors by creating a series of data transformations to convert the spark dataframe into a format that is uses for training.\n",
    "\n",
    "We use the StringIndexer to enumerate our categorical data, and we convert our EloDiff to a magnitude, as NaiveBayes does not function on negative values."
   ]
  },
  {
   "cell_type": "code",
   "execution_count": 7,
   "metadata": {},
   "outputs": [],
   "source": [
    "opening_vectorizor = StringIndexer(inputCol=\"ECO\", outputCol=\"opening_ohe\")\n",
    "gametype_vectorizer = StringIndexer(inputCol=\"event\", outputCol=\"event_vector\")\n",
    "result_vectorizor = StringIndexer(inputCol=\"white_result\", outputCol=\"white_result_vector\")\n",
    "\n",
    "# NaiveBayes requires non-negative values; we transpose our ELODiff to ABS Value.\n",
    "df = df.withColumn('EloDiff', F.abs(F.col('EloDiff')))\n",
    "trainData = trainData.withColumn('EloDiff', F.abs(F.col('EloDiff')))\n",
    "testData = testData.withColumn('EloDiff', F.abs(F.col('EloDiff')))"
   ]
  },
  {
   "cell_type": "markdown",
   "metadata": {},
   "source": [
    "Our opening moves column is still an array of categorical values.\n",
    "We convert this array into a OneHotEncoding value, so that each distinct value has its own category and indicator variable as part of the featureset."
   ]
  },
  {
   "cell_type": "code",
   "execution_count": 8,
   "metadata": {},
   "outputs": [],
   "source": [
    "move_encoder = OneHotEncoder(inputCols=[\"opening_ohe\"],\n",
    "                             outputCols=[\"ECO_Type\"])"
   ]
  },
  {
   "cell_type": "markdown",
   "metadata": {},
   "source": [
    "Next we create a vectorizer for our first_two moves, meaning that we capture the first turn in the match and create a distinct indicator for each pair."
   ]
  },
  {
   "cell_type": "code",
   "execution_count": 9,
   "metadata": {},
   "outputs": [],
   "source": [
    "firsttwo_vectorizer = CountVectorizer(inputCol=\"first_two\", outputCol=\"first_two_vectorizer\")"
   ]
  },
  {
   "cell_type": "markdown",
   "metadata": {},
   "source": [
    "As the final prep step, we create a number of feature column collections to use to build our model.\n",
    "Unlike linear regression, Naive Bayes doesn't have a parametric method to eliminate features, but by running multiple models we can demonstrate the importantce of some variables.\n",
    "\n",
    "We establish four collections:\n",
    "\n",
    "1. `full_features` Which covers all our selected features availabile.\n",
    "2. `moveless_features` Which covers all predictors but your moves.\n",
    "3. `only_moves_features` Covering only the `first_two` moves.\n",
    "4. `game_and_skill_features` Covering the chess match type and the magnitude of difference in Elo Score."
   ]
  },
  {
   "cell_type": "code",
   "execution_count": 10,
   "metadata": {},
   "outputs": [],
   "source": [
    "models = {\n",
    "    'full_features': ['ECO_Type', \"EloDiff\", \"event_vector\", \"first_two_vectorizer\"],\n",
    "    'moveless_features': [\"EloDiff\", \"event_vector\"],\n",
    "    'only_moves_features': [\"first_two_vectorizer\"],\n",
    "    'game_and_skill_features': ['ECO_Type', \"EloDiff\"]\n",
    "}\n",
    "\n",
    "features = dict()\n",
    "\n",
    "for k,v in models.items():\n",
    "    features[k] = VectorAssembler(inputCols=v, outputCol='features')"
   ]
  },
  {
   "cell_type": "markdown",
   "metadata": {},
   "source": [
    "Next we build our parameters to be used for our model building.\n",
    "For Naive Bayes, this means we need to specify the type (multinomial as this is a logistic result).\n",
    "We will also using a `BinaryClassificationEvaluator` in our crossvalidation model to measure the AUROC to determing what model is best.\n",
    "\n",
    "We then build a hyperparameter grid based on the Naive Bayes options.\n",
    "In this case, we have smoothing, which is a 0-1 point value that helps \"smooth\" irregularities that could come up when producing a result.\n",
    "We genearate multiple values to run during cross validation to see if this hyperparameter helps our model."
   ]
  },
  {
   "cell_type": "code",
   "execution_count": 11,
   "metadata": {},
   "outputs": [],
   "source": [
    "nb = NaiveBayes(modelType=\"multinomial\", featuresCol='features', labelCol='white_result_vector')"
   ]
  },
  {
   "cell_type": "code",
   "execution_count": 12,
   "metadata": {},
   "outputs": [],
   "source": [
    "auc_evaluator = BinaryClassificationEvaluator(labelCol='white_result_vector', metricName='areaUnderROC')"
   ]
  },
  {
   "cell_type": "code",
   "execution_count": 13,
   "metadata": {},
   "outputs": [],
   "source": [
    "SEED = 1337\n",
    "\n",
    "smoothing = [0.0, 0.2, 0.4, 0.6, 0.8, 1.0]\n",
    "grid = ParamGridBuilder()\\\n",
    "        .addGrid(nb.smoothing, smoothing)\\\n",
    "        .build()\n",
    "\n",
    "numFolds = 10\n",
    "\n",
    "crossval = CrossValidator(\n",
    "    estimator=nb,\n",
    "    estimatorParamMaps=grid,\n",
    "    evaluator=auc_evaluator,\n",
    "    numFolds=numFolds,\n",
    "    parallelism=7,\n",
    "    seed = SEED)"
   ]
  },
  {
   "cell_type": "markdown",
   "metadata": {},
   "source": [
    "The next set of cells setup our pipeline operations, where there's a series of transformations athat apply to all models, and we add our unique features at the end of the pipeline to help manage the multiple models being built."
   ]
  },
  {
   "cell_type": "code",
   "execution_count": 14,
   "metadata": {},
   "outputs": [],
   "source": [
    "all_transforms = [opening_vectorizor,\n",
    "                  gametype_vectorizer,\n",
    "                  result_vectorizor,\n",
    "                  firsttwo_vectorizer,\n",
    "                  move_encoder]\n",
    "\n",
    "pipelines = dict()\n",
    "\n",
    "for k,v in features.items():\n",
    "    pipelines[k] = Pipeline(stages = all_transforms + [v])"
   ]
  },
  {
   "cell_type": "markdown",
   "metadata": {},
   "source": [
    "This next frame performs all the computation across each model.\n",
    "First it fits our model and testing/training dataset based on our earlier defined pipelines,\n",
    "then it proceeds to perform a crossvalidation training, ultimately identifying the performace of each hyperparameter model across our folds (10).\n",
    "Next we take the best model from our collection, retrain it using our training data nd then transform our testing data to evaluate its overall performance.\n",
    "\n",
    "From there we extract the predicted response against the actual result to determine our overall performance.\n",
    "This is then procesed with a MulticlassMetrics method, which requires transformation from the dataframe API to RDDs to function.\n",
    "This class provides for us the conflusion matrix showing the TP, FP, TN, FN values, as well as other digonistic measures of interest."
   ]
  },
  {
   "cell_type": "code",
   "execution_count": 15,
   "metadata": {},
   "outputs": [
    {
     "name": "stdout",
     "output_type": "stream",
     "text": [
      "Modeling full_features\n",
      "CPU times: user 2.95 s, sys: 782 ms, total: 3.74 s\n",
      "Wall time: 24min 50s\n",
      "Modeling moveless_features\n",
      "CPU times: user 2.33 s, sys: 630 ms, total: 2.96 s\n",
      "Wall time: 8min 9s\n",
      "Modeling only_moves_features\n",
      "CPU times: user 4.37 s, sys: 1.13 s, total: 5.5 s\n",
      "Wall time: 24min 35s\n",
      "Modeling game_and_skill_features\n",
      "CPU times: user 2.98 s, sys: 701 ms, total: 3.68 s\n",
      "Wall time: 8min 23s\n",
      "Done!\n"
     ]
    }
   ],
   "source": [
    "# Create our transforms from our full dataset (considers all cases)\n",
    "\n",
    "tuning = dict()\n",
    "best_metrics = dict()\n",
    "confusionmatrix = dict()\n",
    "\n",
    "for k,v in pipelines.items():\n",
    "    print(\"Modeling {}\".format(k))\n",
    "    \n",
    "    # Fit to our pipeline, which includes the all_transforms as well as the 'k' model's distinct feature columns.\n",
    "    feature_model_df = v.fit(df)\n",
    "\n",
    "    # Transform both training and testing dfs\n",
    "    training_df = feature_model_df.transform(trainData)\n",
    "    testing_df = feature_model_df.transform(testData)\n",
    "    \n",
    "    \n",
    "    %time cvmodel = crossval.fit(training_df)\n",
    "    # Extract the performance of hyperparameters and capture performance.\n",
    "    tuning_params =  [ list(a.values())[0] for a in cvmodel.getEstimatorParamMaps() ]\n",
    "    tuning[k] = pd.DataFrame(list(zip(tuning_params, cvmodel.avgMetrics)), columns=['Parameter (smoothing)', 'AUC'])\n",
    "    # Get the best performing model (per metric)\n",
    "    nb_best = cvmodel.bestModel\n",
    "    nb_best.save(f\"../../../data/modeling/nb-{k}\")\n",
    "    ml_pipeline = Pipeline(stages=[nb_best])\n",
    "    \n",
    "    # Run the train/test model using the best model's pipeline as our guide\n",
    "    result = ml_pipeline.fit(training_df).transform(testing_df)\n",
    "    \n",
    "    # Convert the dataset to an RDD to collect performance measures and confusion matrix\n",
    "    metrics_rdd = MulticlassMetrics(result.select(['prediction','white_result_vector']).rdd.map(tuple))\n",
    "    confusionmatrix[k] = pd.DataFrame(metrics_rdd.confusionMatrix().toArray())\n",
    "\n",
    "    label = 1.0\n",
    "    best_metrics[k] = pd.DataFrame([['AUROC',     tuning[k].loc[tuning[k]['AUC'].idxmax()]['AUC']],\n",
    "                                    ['Accuracy',  metrics_rdd.accuracy],\n",
    "                                    ['Precision', metrics_rdd.precision(label)],\n",
    "                                    ['Recall',    metrics_rdd.recall(label)],\n",
    "                                    ['F1 Score',  metrics_rdd.fMeasure(label)]],\n",
    "                                  columns=['Metric', 'Measure'])\n",
    "print(\"Done!\")"
   ]
  },
  {
   "cell_type": "markdown",
   "metadata": {},
   "source": [
    "With our training complete and our performance measures captured, let's now compare our models to each other."
   ]
  },
  {
   "cell_type": "markdown",
   "metadata": {},
   "source": [
    "First, let's reivew the hyperparameter and crossvalidation metrics."
   ]
  },
  {
   "cell_type": "code",
   "execution_count": 16,
   "metadata": {},
   "outputs": [
    {
     "data": {
      "text/html": [
       "<div>\n",
       "<style scoped>\n",
       "    .dataframe tbody tr th:only-of-type {\n",
       "        vertical-align: middle;\n",
       "    }\n",
       "\n",
       "    .dataframe tbody tr th {\n",
       "        vertical-align: top;\n",
       "    }\n",
       "\n",
       "    .dataframe thead th {\n",
       "        text-align: right;\n",
       "    }\n",
       "</style>\n",
       "<table border=\"1\" class=\"dataframe\">\n",
       "  <thead>\n",
       "    <tr style=\"text-align: right;\">\n",
       "      <th>predictors</th>\n",
       "      <th>full_features</th>\n",
       "      <th>game_and_skill_features</th>\n",
       "      <th>moveless_features</th>\n",
       "      <th>only_moves_features</th>\n",
       "    </tr>\n",
       "    <tr>\n",
       "      <th>Parameter (smoothing)</th>\n",
       "      <th></th>\n",
       "      <th></th>\n",
       "      <th></th>\n",
       "      <th></th>\n",
       "    </tr>\n",
       "  </thead>\n",
       "  <tbody>\n",
       "    <tr>\n",
       "      <th>0.0</th>\n",
       "      <td>0.506094</td>\n",
       "      <td>0.496550</td>\n",
       "      <td>0.496712</td>\n",
       "      <td>0.513684</td>\n",
       "    </tr>\n",
       "    <tr>\n",
       "      <th>0.2</th>\n",
       "      <td>0.502992</td>\n",
       "      <td>0.496549</td>\n",
       "      <td>0.496712</td>\n",
       "      <td>0.512906</td>\n",
       "    </tr>\n",
       "    <tr>\n",
       "      <th>0.4</th>\n",
       "      <td>0.502677</td>\n",
       "      <td>0.496549</td>\n",
       "      <td>0.496712</td>\n",
       "      <td>0.512824</td>\n",
       "    </tr>\n",
       "    <tr>\n",
       "      <th>0.6</th>\n",
       "      <td>0.502473</td>\n",
       "      <td>0.496549</td>\n",
       "      <td>0.496712</td>\n",
       "      <td>0.512763</td>\n",
       "    </tr>\n",
       "    <tr>\n",
       "      <th>0.8</th>\n",
       "      <td>0.502317</td>\n",
       "      <td>0.496549</td>\n",
       "      <td>0.496712</td>\n",
       "      <td>0.512719</td>\n",
       "    </tr>\n",
       "    <tr>\n",
       "      <th>1.0</th>\n",
       "      <td>0.502189</td>\n",
       "      <td>0.496549</td>\n",
       "      <td>0.496712</td>\n",
       "      <td>0.512421</td>\n",
       "    </tr>\n",
       "  </tbody>\n",
       "</table>\n",
       "</div>"
      ],
      "text/plain": [
       "predictors             full_features  game_and_skill_features  \\\n",
       "Parameter (smoothing)                                           \n",
       "0.0                         0.506094                 0.496550   \n",
       "0.2                         0.502992                 0.496549   \n",
       "0.4                         0.502677                 0.496549   \n",
       "0.6                         0.502473                 0.496549   \n",
       "0.8                         0.502317                 0.496549   \n",
       "1.0                         0.502189                 0.496549   \n",
       "\n",
       "predictors             moveless_features  only_moves_features  \n",
       "Parameter (smoothing)                                          \n",
       "0.0                             0.496712             0.513684  \n",
       "0.2                             0.496712             0.512906  \n",
       "0.4                             0.496712             0.512824  \n",
       "0.6                             0.496712             0.512763  \n",
       "0.8                             0.496712             0.512719  \n",
       "1.0                             0.496712             0.512421  "
      ]
     },
     "execution_count": 16,
     "metadata": {},
     "output_type": "execute_result"
    },
    {
     "data": {
      "image/png": "[encoded data removed]",
      "text/plain": [
       "<Figure size 432x288 with 1 Axes>"
      ]
     },
     "metadata": {
      "needs_background": "light"
     },
     "output_type": "display_data"
    }
   ],
   "source": [
    "tuning_df = pd.DataFrame(columns=[\"predictors\", \"Parameter (smoothing)\", \"AUC\"])\n",
    "for k,v in tuning.items():\n",
    "    mydf = v.copy()\n",
    "    mydf['predictors'] = k\n",
    "    tuning_df = tuning_df.append(mydf, ignore_index=True)\n",
    "    \n",
    "ax3 = sns.barplot(data=tuning_df, x='AUC', y='Parameter (smoothing)', hue='predictors', orient=\"h\")\n",
    "ax3.legend(bbox_to_anchor=(1.05, 1), loc=2, borderaxespad=0.0)\n",
    "ax3.set(xlim=(0.495, 0.515))\n",
    "tuning_df.pivot(index='Parameter (smoothing)', columns='predictors', values='AUC')"
   ]
  },
  {
   "cell_type": "markdown",
   "metadata": {},
   "source": [
    "First we see that cross validation and hyperparameter tuning doesn't have too extreme of an effect, where the full_feature benifits the most from the tuning."
   ]
  },
  {
   "cell_type": "markdown",
   "metadata": {},
   "source": [
    "Next let's review the performance measures of each model."
   ]
  },
  {
   "cell_type": "code",
   "execution_count": 17,
   "metadata": {},
   "outputs": [
    {
     "data": {
      "text/html": [
       "<div>\n",
       "<style scoped>\n",
       "    .dataframe tbody tr th:only-of-type {\n",
       "        vertical-align: middle;\n",
       "    }\n",
       "\n",
       "    .dataframe tbody tr th {\n",
       "        vertical-align: top;\n",
       "    }\n",
       "\n",
       "    .dataframe thead th {\n",
       "        text-align: right;\n",
       "    }\n",
       "</style>\n",
       "<table border=\"1\" class=\"dataframe\">\n",
       "  <thead>\n",
       "    <tr style=\"text-align: right;\">\n",
       "      <th>predictors</th>\n",
       "      <th>full_features</th>\n",
       "      <th>game_and_skill_features</th>\n",
       "      <th>moveless_features</th>\n",
       "      <th>only_moves_features</th>\n",
       "    </tr>\n",
       "    <tr>\n",
       "      <th>Metric</th>\n",
       "      <th></th>\n",
       "      <th></th>\n",
       "      <th></th>\n",
       "      <th></th>\n",
       "    </tr>\n",
       "  </thead>\n",
       "  <tbody>\n",
       "    <tr>\n",
       "      <th>AUROC</th>\n",
       "      <td>0.506094</td>\n",
       "      <td>0.496550</td>\n",
       "      <td>0.496712</td>\n",
       "      <td>0.513684</td>\n",
       "    </tr>\n",
       "    <tr>\n",
       "      <th>Accuracy</th>\n",
       "      <td>0.535799</td>\n",
       "      <td>0.531128</td>\n",
       "      <td>0.503656</td>\n",
       "      <td>0.533177</td>\n",
       "    </tr>\n",
       "    <tr>\n",
       "      <th>F1 Score</th>\n",
       "      <td>0.525169</td>\n",
       "      <td>0.517244</td>\n",
       "      <td>0.029259</td>\n",
       "      <td>0.520575</td>\n",
       "    </tr>\n",
       "    <tr>\n",
       "      <th>Precision</th>\n",
       "      <td>0.533898</td>\n",
       "      <td>0.529431</td>\n",
       "      <td>0.515683</td>\n",
       "      <td>0.531427</td>\n",
       "    </tr>\n",
       "    <tr>\n",
       "      <th>Recall</th>\n",
       "      <td>0.516721</td>\n",
       "      <td>0.505604</td>\n",
       "      <td>0.015057</td>\n",
       "      <td>0.510157</td>\n",
       "    </tr>\n",
       "  </tbody>\n",
       "</table>\n",
       "</div>"
      ],
      "text/plain": [
       "predictors  full_features  game_and_skill_features  moveless_features  \\\n",
       "Metric                                                                  \n",
       "AUROC            0.506094                 0.496550           0.496712   \n",
       "Accuracy         0.535799                 0.531128           0.503656   \n",
       "F1 Score         0.525169                 0.517244           0.029259   \n",
       "Precision        0.533898                 0.529431           0.515683   \n",
       "Recall           0.516721                 0.505604           0.015057   \n",
       "\n",
       "predictors  only_moves_features  \n",
       "Metric                           \n",
       "AUROC                  0.513684  \n",
       "Accuracy               0.533177  \n",
       "F1 Score               0.520575  \n",
       "Precision              0.531427  \n",
       "Recall                 0.510157  "
      ]
     },
     "execution_count": 17,
     "metadata": {},
     "output_type": "execute_result"
    },
    {
     "data": {
      "image/png": "[encoded data removed]",
      "text/plain": [
       "<Figure size 432x288 with 1 Axes>"
      ]
     },
     "metadata": {
      "needs_background": "light"
     },
     "output_type": "display_data"
    }
   ],
   "source": [
    "# recompose hierarcical data to dataframe\n",
    "performance_df = pd.DataFrame(columns=[\"predictors\", 'Metric', 'Measure'])\n",
    "for k,v in best_metrics.items():\n",
    "    mydf = v.copy()\n",
    "    mydf['predictors'] = k\n",
    "    performance_df = performance_df.append(mydf, ignore_index=True)\n",
    "\n",
    "# Plot the performances of each metric\n",
    "ax2 = sns.barplot(data=performance_df, x='Measure', y='Metric', hue='predictors', orient=\"h\")\n",
    "ax2.legend(bbox_to_anchor=(1.05, 1), loc=2, borderaxespad=0.0)\n",
    "ax2.set(xlim=(0.495, 0.54))\n",
    "performance_df.pivot(index=\"Metric\", columns=\"predictors\", values=\"Measure\")"
   ]
  },
  {
   "cell_type": "markdown",
   "metadata": {},
   "source": [
    "Here we see that only the full_features and only_moves_features featuresets are better than guessing (and not by much).\n",
    "We do see a bit of promise in the full_features collection with the higest accuracy and precision.\n",
    "\n",
    "Howver, the key insight here is that all models perform relatively the same, where the moves set appears to add about 1% better accountability."
   ]
  },
  {
   "cell_type": "markdown",
   "metadata": {},
   "source": [
    "Finally, let's check our confusion matrices to make sure our models appear to have logical measures, as that no category equals zero."
   ]
  },
  {
   "cell_type": "code",
   "execution_count": 18,
   "metadata": {},
   "outputs": [
    {
     "data": {
      "text/html": [
       "<strong>full_features</strong><br/>"
      ],
      "text/plain": [
       "<IPython.core.display.HTML object>"
      ]
     },
     "metadata": {},
     "output_type": "display_data"
    },
    {
     "data": {
      "text/html": [
       "<div>\n",
       "<style scoped>\n",
       "    .dataframe tbody tr th:only-of-type {\n",
       "        vertical-align: middle;\n",
       "    }\n",
       "\n",
       "    .dataframe tbody tr th {\n",
       "        vertical-align: top;\n",
       "    }\n",
       "\n",
       "    .dataframe thead th {\n",
       "        text-align: right;\n",
       "    }\n",
       "</style>\n",
       "<table border=\"1\" class=\"dataframe\">\n",
       "  <thead>\n",
       "    <tr style=\"text-align: right;\">\n",
       "      <th></th>\n",
       "      <th>0</th>\n",
       "      <th>1</th>\n",
       "    </tr>\n",
       "  </thead>\n",
       "  <tbody>\n",
       "    <tr>\n",
       "      <th>0</th>\n",
       "      <td>322665.0</td>\n",
       "      <td>259097.0</td>\n",
       "    </tr>\n",
       "    <tr>\n",
       "      <th>1</th>\n",
       "      <td>277576.0</td>\n",
       "      <td>296784.0</td>\n",
       "    </tr>\n",
       "  </tbody>\n",
       "</table>\n",
       "</div>"
      ],
      "text/plain": [
       "          0         1\n",
       "0  322665.0  259097.0\n",
       "1  277576.0  296784.0"
      ]
     },
     "metadata": {},
     "output_type": "display_data"
    },
    {
     "data": {
      "text/html": [
       "<br/>"
      ],
      "text/plain": [
       "<IPython.core.display.HTML object>"
      ]
     },
     "metadata": {},
     "output_type": "display_data"
    },
    {
     "data": {
      "text/html": [
       "<strong>moveless_features</strong><br/>"
      ],
      "text/plain": [
       "<IPython.core.display.HTML object>"
      ]
     },
     "metadata": {},
     "output_type": "display_data"
    },
    {
     "data": {
      "text/html": [
       "<div>\n",
       "<style scoped>\n",
       "    .dataframe tbody tr th:only-of-type {\n",
       "        vertical-align: middle;\n",
       "    }\n",
       "\n",
       "    .dataframe tbody tr th {\n",
       "        vertical-align: top;\n",
       "    }\n",
       "\n",
       "    .dataframe thead th {\n",
       "        text-align: right;\n",
       "    }\n",
       "</style>\n",
       "<table border=\"1\" class=\"dataframe\">\n",
       "  <thead>\n",
       "    <tr style=\"text-align: right;\">\n",
       "      <th></th>\n",
       "      <th>0</th>\n",
       "      <th>1</th>\n",
       "    </tr>\n",
       "  </thead>\n",
       "  <tbody>\n",
       "    <tr>\n",
       "      <th>0</th>\n",
       "      <td>573640.0</td>\n",
       "      <td>8122.0</td>\n",
       "    </tr>\n",
       "    <tr>\n",
       "      <th>1</th>\n",
       "      <td>565712.0</td>\n",
       "      <td>8648.0</td>\n",
       "    </tr>\n",
       "  </tbody>\n",
       "</table>\n",
       "</div>"
      ],
      "text/plain": [
       "          0       1\n",
       "0  573640.0  8122.0\n",
       "1  565712.0  8648.0"
      ]
     },
     "metadata": {},
     "output_type": "display_data"
    },
    {
     "data": {
      "text/html": [
       "<br/>"
      ],
      "text/plain": [
       "<IPython.core.display.HTML object>"
      ]
     },
     "metadata": {},
     "output_type": "display_data"
    },
    {
     "data": {
      "text/html": [
       "<strong>only_moves_features</strong><br/>"
      ],
      "text/plain": [
       "<IPython.core.display.HTML object>"
      ]
     },
     "metadata": {},
     "output_type": "display_data"
    },
    {
     "data": {
      "text/html": [
       "<div>\n",
       "<style scoped>\n",
       "    .dataframe tbody tr th:only-of-type {\n",
       "        vertical-align: middle;\n",
       "    }\n",
       "\n",
       "    .dataframe tbody tr th {\n",
       "        vertical-align: top;\n",
       "    }\n",
       "\n",
       "    .dataframe thead th {\n",
       "        text-align: right;\n",
       "    }\n",
       "</style>\n",
       "<table border=\"1\" class=\"dataframe\">\n",
       "  <thead>\n",
       "    <tr style=\"text-align: right;\">\n",
       "      <th></th>\n",
       "      <th>0</th>\n",
       "      <th>1</th>\n",
       "    </tr>\n",
       "  </thead>\n",
       "  <tbody>\n",
       "    <tr>\n",
       "      <th>0</th>\n",
       "      <td>323404.0</td>\n",
       "      <td>258358.0</td>\n",
       "    </tr>\n",
       "    <tr>\n",
       "      <th>1</th>\n",
       "      <td>281346.0</td>\n",
       "      <td>293014.0</td>\n",
       "    </tr>\n",
       "  </tbody>\n",
       "</table>\n",
       "</div>"
      ],
      "text/plain": [
       "          0         1\n",
       "0  323404.0  258358.0\n",
       "1  281346.0  293014.0"
      ]
     },
     "metadata": {},
     "output_type": "display_data"
    },
    {
     "data": {
      "text/html": [
       "<br/>"
      ],
      "text/plain": [
       "<IPython.core.display.HTML object>"
      ]
     },
     "metadata": {},
     "output_type": "display_data"
    },
    {
     "data": {
      "text/html": [
       "<strong>game_and_skill_features</strong><br/>"
      ],
      "text/plain": [
       "<IPython.core.display.HTML object>"
      ]
     },
     "metadata": {},
     "output_type": "display_data"
    },
    {
     "data": {
      "text/html": [
       "<div>\n",
       "<style scoped>\n",
       "    .dataframe tbody tr th:only-of-type {\n",
       "        vertical-align: middle;\n",
       "    }\n",
       "\n",
       "    .dataframe tbody tr th {\n",
       "        vertical-align: top;\n",
       "    }\n",
       "\n",
       "    .dataframe thead th {\n",
       "        text-align: right;\n",
       "    }\n",
       "</style>\n",
       "<table border=\"1\" class=\"dataframe\">\n",
       "  <thead>\n",
       "    <tr style=\"text-align: right;\">\n",
       "      <th></th>\n",
       "      <th>0</th>\n",
       "      <th>1</th>\n",
       "    </tr>\n",
       "  </thead>\n",
       "  <tbody>\n",
       "    <tr>\n",
       "      <th>0</th>\n",
       "      <td>323650.0</td>\n",
       "      <td>258112.0</td>\n",
       "    </tr>\n",
       "    <tr>\n",
       "      <th>1</th>\n",
       "      <td>283961.0</td>\n",
       "      <td>290399.0</td>\n",
       "    </tr>\n",
       "  </tbody>\n",
       "</table>\n",
       "</div>"
      ],
      "text/plain": [
       "          0         1\n",
       "0  323650.0  258112.0\n",
       "1  283961.0  290399.0"
      ]
     },
     "metadata": {},
     "output_type": "display_data"
    },
    {
     "data": {
      "text/html": [
       "<br/>"
      ],
      "text/plain": [
       "<IPython.core.display.HTML object>"
      ]
     },
     "metadata": {},
     "output_type": "display_data"
    }
   ],
   "source": [
    "from IPython.display import HTML\n",
    "\n",
    "for k,v in confusionmatrix.items():\n",
    "    display(HTML(f\"<strong>{k}</strong><br/>\"))\n",
    "    display(v)\n",
    "    display(HTML(\"<br/>\"))"
   ]
  }
 ],
 "metadata": {
  "kernelspec": {
   "display_name": "DS 5110 Spark 3.1",
   "language": "python",
   "name": "ds5110_spark3.1"
  },
  "language_info": {
   "codemirror_mode": {
    "name": "ipython",
    "version": 3
   },
   "file_extension": ".py",
   "mimetype": "text/x-python",
   "name": "python",
   "nbconvert_exporter": "python",
   "pygments_lexer": "ipython3",
   "version": "3.7.10"
  }
 },
 "nbformat": 4,
 "nbformat_minor": 5
}
