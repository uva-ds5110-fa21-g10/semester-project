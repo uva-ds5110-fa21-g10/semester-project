{
 "cells": [
  {
   "cell_type": "markdown",
   "metadata": {},
   "source": [
    "# Exporatory Analytics of Dataset\n",
    "\n",
    "## DS 5110\n",
    "* Fall 2021\n",
    "* Group 10\n",
    "  * Antone Edelman\n",
    "  * Xin Huang\n",
    "  * Robert Knuuti"
   ]
  },
  {
   "cell_type": "markdown",
   "metadata": {},
   "source": [
    "## Data Prep\n",
    "### Exploration and Preliminary Feature Engineering\n",
    "\n",
    "In this notebook, we leverage the filtered game dataset from the first notebook and begin to explore elements of the data.\n",
    "\n",
    "First, we split the algebreic notation of the chess games into an array of moves.\n",
    "This will help with future analytics to more aptly filter on a specific move in a game.\n",
    "\n",
    "Next, we more concretely define when a game is a win or a loss.\n",
    "The field in our source data is one of `1-0`, `0-1`, or `1/2-1/2`.\n",
    "We define a White win as `1-0`.\n",
    "We define a Black win as `0-1`.\n",
    "We define a tie as `1/2-1/2`.\n",
    "Each of these are created as new columns that match the boolean statement (one hot encoding).\n",
    "\n",
    "Following this, we establish a total move count and game complexity measure based on the total number of moves in a game.\n",
    "We bin these features from 1 to 6, where each number increase is 10 more moves than the last.\n",
    "This will help generalize the overall analysis based on lengths.\n",
    "It's worth noting that the average game of chess is 37 moves.\n",
    "This means that if we were to do a density plot of this measure, it should have a crest at 4.\n",
    "\n",
    "Finally, we create a simplification of the moves array, containing only the first 2 and 10 moves.\n",
    "This will aid in answering our question on if the moves used in an opening influence the results of our win.\n",
    "\n",
    "Finally, we minimize our dataframe to the features we believe will have influence in determing what results in a win, saving it to a parquet file for future notebooks to process."
   ]
  },
  {
   "cell_type": "code",
   "execution_count": 1,
   "metadata": {},
   "outputs": [],
   "source": [
    "from pyspark.sql import SparkSession\n",
    "import pyspark.sql.functions as F\n",
    "import pyspark.sql.types as T\n",
    "import seaborn as sns\n",
    "\n",
    "%matplotlib inline\n",
    "\n",
    "spark = SparkSession.builder \\\n",
    "    .master(\"local[*]\") \\\n",
    "    .appName(\"fa21-ds5110-group10-rk\") \\\n",
    "    .config(\"spark.driver.memory\", \"12g\") \\\n",
    "    .getOrCreate()"
   ]
  },
  {
   "cell_type": "code",
   "execution_count": 2,
   "metadata": {},
   "outputs": [
    {
     "data": {
      "text/html": [
       "\n",
       "        <div>\n",
       "            <p><b>SparkContext</b></p>\n",
       "\n",
       "            <p><a href=\"http://udc-ba34-25c9:4040\">Spark UI</a></p>\n",
       "\n",
       "            <dl>\n",
       "              <dt>Version</dt>\n",
       "                <dd><code>v3.1.2</code></dd>\n",
       "              <dt>Master</dt>\n",
       "                <dd><code>local[*]</code></dd>\n",
       "              <dt>AppName</dt>\n",
       "                <dd><code>fa21-ds5110-group10-rk</code></dd>\n",
       "            </dl>\n",
       "        </div>\n",
       "        "
      ],
      "text/plain": [
       "<SparkContext master=local[*] appName=fa21-ds5110-group10-rk>"
      ]
     },
     "execution_count": 2,
     "metadata": {},
     "output_type": "execute_result"
    }
   ],
   "source": [
    "spark.sparkContext"
   ]
  },
  {
   "cell_type": "code",
   "execution_count": 3,
   "metadata": {},
   "outputs": [],
   "source": [
    "spark.sparkContext.cancelAllJobs()"
   ]
  },
  {
   "cell_type": "code",
   "execution_count": 4,
   "metadata": {},
   "outputs": [],
   "source": [
    "df = spark.read.parquet(\"../../data/processed/chess_games_blitz_classic.parquet\")"
   ]
  },
  {
   "cell_type": "markdown",
   "metadata": {},
   "source": [
    "There's some additional cleanup we have to do beyond the filtering of games to just classic and blitz.\n",
    "Below are our transforms to add new features and to transform the data."
   ]
  },
  {
   "cell_type": "code",
   "execution_count": 5,
   "metadata": {},
   "outputs": [
    {
     "name": "stdout",
     "output_type": "stream",
     "text": [
      "root\n",
      " |-- event: string (nullable = true)\n",
      " |-- white: string (nullable = true)\n",
      " |-- black: string (nullable = true)\n",
      " |-- result: string (nullable = true)\n",
      " |-- UTCDate: date (nullable = true)\n",
      " |-- UTCTime: string (nullable = true)\n",
      " |-- WhiteElo: integer (nullable = true)\n",
      " |-- BlackElo: integer (nullable = true)\n",
      " |-- WhiteRatingDiff: double (nullable = true)\n",
      " |-- BlackRatingDiff: double (nullable = true)\n",
      " |-- ECO: string (nullable = true)\n",
      " |-- Opening: string (nullable = true)\n",
      " |-- TimeControl: string (nullable = true)\n",
      " |-- Termination: string (nullable = true)\n",
      " |-- AN: string (nullable = true)\n",
      "\n",
      "Abandoned Games to drop: 739\n",
      "Refined schema\n",
      "-------------------\n",
      "root\n",
      " |-- event: string (nullable = true)\n",
      " |-- white: string (nullable = true)\n",
      " |-- black: string (nullable = true)\n",
      " |-- result: string (nullable = true)\n",
      " |-- UTCDate: date (nullable = true)\n",
      " |-- UTCTime: string (nullable = true)\n",
      " |-- WhiteElo: integer (nullable = true)\n",
      " |-- BlackElo: integer (nullable = true)\n",
      " |-- WhiteRatingDiff: double (nullable = true)\n",
      " |-- BlackRatingDiff: double (nullable = true)\n",
      " |-- ECO: string (nullable = true)\n",
      " |-- Opening: string (nullable = true)\n",
      " |-- TimeControl: string (nullable = true)\n",
      " |-- Termination: string (nullable = true)\n",
      " |-- AN: string (nullable = true)\n",
      " |-- moves: array (nullable = true)\n",
      " |    |-- element: string (containsNull = true)\n",
      " |-- white_games_won: double (nullable = true)\n",
      " |-- black_games_won: double (nullable = true)\n",
      " |-- tie: boolean (nullable = true)\n",
      " |-- result_moves: integer (nullable = false)\n",
      " |-- game_complexity: integer (nullable = false)\n",
      " |-- opening_class: string (nullable = false)\n",
      " |-- EloDiff: integer (nullable = true)\n",
      " |-- first_ten: array (nullable = true)\n",
      " |    |-- element: string (containsNull = true)\n",
      " |-- first_two: array (nullable = true)\n",
      " |    |-- element: string (containsNull = true)\n",
      " |-- white_result: string (nullable = false)\n",
      "\n"
     ]
    }
   ],
   "source": [
    "df.printSchema()\n",
    "\n",
    "print(\"Abandoned Games to drop: {}\".format(df.filter(F.col(\"result\").contains(\"*\")).count()))\n",
    "# Remove all abandoned games.\n",
    "df_filtered = df.filter(~F.col(\"result\").contains(\"*\"))\n",
    "\n",
    "from fractions import Fraction as frac\n",
    "\n",
    "# We break apar the AN notation for chess moves into arrays\n",
    "def movetype(x):\n",
    "    import re\n",
    "    moves = re.split('\\d+\\. ', x)[1:]\n",
    "    return [x.strip() for x in moves]\n",
    "\n",
    "\n",
    "udf_movetype = F.udf(lambda x: movetype(x), T.ArrayType(T.StringType()))\n",
    "df_filtered = df_filtered.withColumn('moves', udf_movetype(F.col('AN')))\n",
    "\n",
    "# Convert result column into seperate white/black win columns\n",
    "white_win_udf = F.udf(lambda result: float(frac(result.split('-')[0])), T.DoubleType())\n",
    "df_filtered = df_filtered.withColumn(\"white_games_won\", white_win_udf(F.col(\"result\")))\n",
    "black_win_udf = F.udf(lambda result: float(frac(result.split('-')[1])), T.DoubleType())\n",
    "df_filtered = df_filtered.withColumn(\"black_games_won\", black_win_udf(F.col(\"result\")))\n",
    "df_filtered = df_filtered.withColumn(\"tie\", F.col(\"white_games_won\") == F.col(\"black_games_won\"))\n",
    "\n",
    "# Identify the total number of moves in a game\n",
    "df_filtered = df_filtered.withColumn(\"result_moves\", F.size(F.col(\"moves\")))\n",
    "# Categorize games based upon total move size.\n",
    "df_filtered = df_filtered.withColumn(\"game_complexity\",\n",
    "                                     F.when(F.col(\"result_moves\") ==  1, 1)\\\n",
    "                                      .when(F.col(\"result_moves\") <= 10, 2)\\\n",
    "                                      .when(F.col(\"result_moves\") <= 20, 3)\\\n",
    "                                      .when(F.col(\"result_moves\") <= 30, 4)\\\n",
    "                                      .when(F.col(\"result_moves\") <= 40, 5)\\\n",
    "                                      .when(F.col(\"result_moves\") <= 50, 6)\\\n",
    "                                      .otherwise(7))\n",
    "\n",
    "df_filtered = df_filtered.withColumn(\"opening_class\",\n",
    "                                     F.when(F.lower(F.col(\"ECO\")).contains(\"a\"), \"Flank openings\")\\\n",
    "                                      .when(F.lower(F.col(\"ECO\")).contains(\"b\"), \"Semi-Open Games\")\\\n",
    "                                      .when(F.lower(F.col(\"ECO\")).contains(\"c\"), \"Open Games\")\\\n",
    "                                      .when(F.lower(F.col(\"ECO\")).contains(\"d\"), \"Semi-Closed Games\")\\\n",
    "                                      .when(F.lower(F.col(\"ECO\")).contains(\"e\"), \"Indian Defences\")\\\n",
    "                                      .otherwise(\"Other\"))\n",
    "\n",
    "\n",
    "\n",
    "df_filtered = df_filtered.withColumn(\"EloDiff\", F.col(\"WhiteElo\") - F.col(\"BlackElo\"))\n",
    "\n",
    "\n",
    "# Collect only the first subset of moves in a game\n",
    "df_filtered = df_filtered.withColumn(\"first_ten\", F.slice(F.col(\"moves\"), 1, 10))\n",
    "df_filtered = df_filtered.withColumn(\"first_two\", F.slice(F.col(\"moves\"), 1, 2))\n",
    "\n",
    "# We establish a formal win column that we'll be using as a logistical response\n",
    "# We will not consider a tie as a win for white.\n",
    "df_filtered = df_filtered.withColumn(\"white_result\",\n",
    "                                     F.when(F.col(\"white_games_won\") > 0.5, \"win\")\\\n",
    "                                      .otherwise(\"loss\"))\n",
    "\n",
    "print(\"Refined schema\\n-------------------\")\n",
    "df_filtered.printSchema()"
   ]
  },
  {
   "cell_type": "code",
   "execution_count": 6,
   "metadata": {},
   "outputs": [
    {
     "name": "stdout",
     "output_type": "stream",
     "text": [
      "+-------+------------------+------------------+\n",
      "|summary|          WhiteElo|          BlackElo|\n",
      "+-------+------------------+------------------+\n",
      "|  count|           3849646|           3849646|\n",
      "|   mean| 1710.584323078018| 1708.761483263656|\n",
      "| stddev|263.42156710132883|264.54823496140455|\n",
      "|    min|               762|               728|\n",
      "|    max|              2906|              2907|\n",
      "+-------+------------------+------------------+\n",
      "\n"
     ]
    }
   ],
   "source": [
    "df_filtered.describe(['WhiteElo', 'BlackElo']).show()"
   ]
  },
  {
   "cell_type": "code",
   "execution_count": 7,
   "metadata": {},
   "outputs": [
    {
     "name": "stdout",
     "output_type": "stream",
     "text": [
      "+-------+-------+\n",
      "| result|  count|\n",
      "+-------+-------+\n",
      "|1/2-1/2| 157936|\n",
      "|    1-0|1913218|\n",
      "|    0-1|1778492|\n",
      "+-------+-------+\n",
      "\n"
     ]
    }
   ],
   "source": [
    "df_filtered.groupBy(['result']).count().show()"
   ]
  },
  {
   "cell_type": "code",
   "execution_count": 8,
   "metadata": {},
   "outputs": [
    {
     "data": {
      "text/html": [
       "<div>\n",
       "<style scoped>\n",
       "    .dataframe tbody tr th:only-of-type {\n",
       "        vertical-align: middle;\n",
       "    }\n",
       "\n",
       "    .dataframe tbody tr th {\n",
       "        vertical-align: top;\n",
       "    }\n",
       "\n",
       "    .dataframe thead th {\n",
       "        text-align: right;\n",
       "    }\n",
       "</style>\n",
       "<table border=\"1\" class=\"dataframe\">\n",
       "  <thead>\n",
       "    <tr style=\"text-align: right;\">\n",
       "      <th></th>\n",
       "      <th>TimeControl</th>\n",
       "      <th>count</th>\n",
       "    </tr>\n",
       "  </thead>\n",
       "  <tbody>\n",
       "    <tr>\n",
       "      <th>0</th>\n",
       "      <td>300+0</td>\n",
       "      <td>879073</td>\n",
       "    </tr>\n",
       "    <tr>\n",
       "      <th>1</th>\n",
       "      <td>180+0</td>\n",
       "      <td>699358</td>\n",
       "    </tr>\n",
       "    <tr>\n",
       "      <th>2</th>\n",
       "      <td>600+0</td>\n",
       "      <td>417836</td>\n",
       "    </tr>\n",
       "    <tr>\n",
       "      <th>3</th>\n",
       "      <td>900+0</td>\n",
       "      <td>148993</td>\n",
       "    </tr>\n",
       "    <tr>\n",
       "      <th>4</th>\n",
       "      <td>180+2</td>\n",
       "      <td>139886</td>\n",
       "    </tr>\n",
       "    <tr>\n",
       "      <th>...</th>\n",
       "      <td>...</td>\n",
       "      <td>...</td>\n",
       "    </tr>\n",
       "    <tr>\n",
       "      <th>815</th>\n",
       "      <td>5400+25</td>\n",
       "      <td>1</td>\n",
       "    </tr>\n",
       "    <tr>\n",
       "      <th>816</th>\n",
       "      <td>2400+16</td>\n",
       "      <td>1</td>\n",
       "    </tr>\n",
       "    <tr>\n",
       "      <th>817</th>\n",
       "      <td>60+150</td>\n",
       "      <td>1</td>\n",
       "    </tr>\n",
       "    <tr>\n",
       "      <th>818</th>\n",
       "      <td>720+180</td>\n",
       "      <td>1</td>\n",
       "    </tr>\n",
       "    <tr>\n",
       "      <th>819</th>\n",
       "      <td>90+14</td>\n",
       "      <td>1</td>\n",
       "    </tr>\n",
       "  </tbody>\n",
       "</table>\n",
       "<p>820 rows × 2 columns</p>\n",
       "</div>"
      ],
      "text/plain": [
       "    TimeControl   count\n",
       "0         300+0  879073\n",
       "1         180+0  699358\n",
       "2         600+0  417836\n",
       "3         900+0  148993\n",
       "4         180+2  139886\n",
       "..          ...     ...\n",
       "815     5400+25       1\n",
       "816     2400+16       1\n",
       "817      60+150       1\n",
       "818     720+180       1\n",
       "819       90+14       1\n",
       "\n",
       "[820 rows x 2 columns]"
      ]
     },
     "execution_count": 8,
     "metadata": {},
     "output_type": "execute_result"
    }
   ],
   "source": [
    "df_filtered.groupBy(['TimeControl']).count().sort('count', ascending=False).toPandas()"
   ]
  },
  {
   "cell_type": "code",
   "execution_count": 9,
   "metadata": {},
   "outputs": [],
   "source": [
    "eco_summary = df_filtered.groupBy(['ECO']).count().sort('count', ascending=False).toPandas()"
   ]
  },
  {
   "cell_type": "code",
   "execution_count": 10,
   "metadata": {},
   "outputs": [
    {
     "data": {
      "text/plain": [
       "<AxesSubplot:xlabel='ECO', ylabel='count'>"
      ]
     },
     "execution_count": 10,
     "metadata": {},
     "output_type": "execute_result"
    },
    {
     "data": {
      "image/png": "[encoded data removed]",
      "text/plain": [
       "<Figure size 432x288 with 1 Axes>"
      ]
     },
     "metadata": {
      "needs_background": "light"
     },
     "output_type": "display_data"
    }
   ],
   "source": [
    "sns.barplot(data=eco_summary, x='ECO', y='count')"
   ]
  },
  {
   "cell_type": "code",
   "execution_count": 11,
   "metadata": {},
   "outputs": [
    {
     "data": {
      "text/plain": [
       "<AxesSubplot:xlabel='result_moves'>"
      ]
     },
     "execution_count": 11,
     "metadata": {},
     "output_type": "execute_result"
    },
    {
     "data": {
      "image/png": "[encoded data removed]",
      "text/plain": [
       "<Figure size 432x288 with 1 Axes>"
      ]
     },
     "metadata": {
      "needs_background": "light"
     },
     "output_type": "display_data"
    }
   ],
   "source": [
    "complexity = df_filtered.select(['result_moves']).toPandas()\n",
    "\n",
    "sns.violinplot(x=\"result_moves\", data=complexity)"
   ]
  },
  {
   "cell_type": "code",
   "execution_count": 12,
   "metadata": {},
   "outputs": [],
   "source": [
    "complexity = df_filtered.select(['game_complexity']).toPandas()"
   ]
  },
  {
   "cell_type": "code",
   "execution_count": 13,
   "metadata": {},
   "outputs": [
    {
     "data": {
      "text/plain": [
       "<AxesSubplot:xlabel='game_complexity', ylabel='count'>"
      ]
     },
     "execution_count": 13,
     "metadata": {},
     "output_type": "execute_result"
    },
    {
     "data": {
      "image/png": "[encoded data removed]",
      "text/plain": [
       "<Figure size 432x288 with 1 Axes>"
      ]
     },
     "metadata": {
      "needs_background": "light"
     },
     "output_type": "display_data"
    }
   ],
   "source": [
    "sns.countplot(x=\"game_complexity\", data=complexity)"
   ]
  },
  {
   "cell_type": "code",
   "execution_count": 14,
   "metadata": {},
   "outputs": [
    {
     "data": {
      "text/plain": [
       "<AxesSubplot:>"
      ]
     },
     "execution_count": 14,
     "metadata": {},
     "output_type": "execute_result"
    },
    {
     "data": {
      "image/png": "[encoded data removed]",
      "text/plain": [
       "<Figure size 432x288 with 1 Axes>"
      ]
     },
     "metadata": {
      "needs_background": "light"
     },
     "output_type": "display_data"
    }
   ],
   "source": [
    "elos = df_filtered.select(['WhiteElo', 'BlackElo']).toPandas()\n",
    "sns.boxplot(data=elos)"
   ]
  },
  {
   "cell_type": "code",
   "execution_count": 15,
   "metadata": {},
   "outputs": [
    {
     "name": "stdout",
     "output_type": "stream",
     "text": [
      "+-----------------+-------+\n",
      "|    opening_class|  count|\n",
      "+-----------------+-------+\n",
      "|       Open Games|1409420|\n",
      "|Semi-Closed Games| 523908|\n",
      "|  Semi-Open Games|1052515|\n",
      "|   Flank openings| 784356|\n",
      "|  Indian Defences|  79447|\n",
      "+-----------------+-------+\n",
      "\n"
     ]
    }
   ],
   "source": [
    "df_filtered.groupBy('opening_class').count().show()"
   ]
  },
  {
   "cell_type": "code",
   "execution_count": 16,
   "metadata": {},
   "outputs": [
    {
     "data": {
      "text/plain": [
       "[None, None, None, None, None]"
      ]
     },
     "execution_count": 16,
     "metadata": {},
     "output_type": "execute_result"
    },
    {
     "data": {
      "image/png": "[encoded data removed]",
      "text/plain": [
       "<Figure size 432x288 with 1 Axes>"
      ]
     },
     "metadata": {
      "needs_background": "light"
     },
     "output_type": "display_data"
    }
   ],
   "source": [
    "openings_c = df_filtered.groupBy('opening_class').count().toPandas()\n",
    "openings = sns.barplot(x=\"opening_class\",y=\"count\",data=openings_c)\n",
    "\n",
    "openings.set_title('Openings By Class')\n",
    "    \n",
    "[item.set_rotation(45) for item in openings.get_xticklabels()]"
   ]
  },
  {
   "cell_type": "code",
   "execution_count": 17,
   "metadata": {},
   "outputs": [
    {
     "data": {
      "text/plain": [
       "<AxesSubplot:>"
      ]
     },
     "execution_count": 17,
     "metadata": {},
     "output_type": "execute_result"
    },
    {
     "data": {
      "image/png": "[encoded data removed]",
      "text/plain": [
       "<Figure size 432x288 with 1 Axes>"
      ]
     },
     "metadata": {
      "needs_background": "light"
     },
     "output_type": "display_data"
    }
   ],
   "source": [
    "eloDiff = df_filtered.select(['EloDiff']).toPandas()\n",
    "sns.violinplot(data=eloDiff, cut=0)"
   ]
  },
  {
   "cell_type": "code",
   "execution_count": 18,
   "metadata": {},
   "outputs": [
    {
     "name": "stdout",
     "output_type": "stream",
     "text": [
      "+---------+------------+----------------+---+-------+--------------------+---------------+---------------+\n",
      "|    event|white_result|       first_two|ECO|EloDiff|             Opening|game_complexity|  opening_class|\n",
      "+---------+------------+----------------+---+-------+--------------------+---------------+---------------+\n",
      "|    Blitz|         win|[c4 c5, Nc3 Nf6]|A34|    222|English Opening: ...|              6| Flank openings|\n",
      "|    Blitz|         win| [d4 b6, c4 Bb7]|A40|    309|  English Defense #2|              5| Flank openings|\n",
      "|Classical|        loss| [e4 Nc6, d4 d5]|B00|   -248|Nimzowitsch Defen...|              7|Semi-Open Games|\n",
      "|    Blitz|         win|[e4 e5, d4 exd4]|C21|   -212|       Danish Gambit|              4|     Open Games|\n",
      "|    Blitz|        loss|[e4 e5, d4 exd4]|C22|     75|Center Game: Paul...|              4|     Open Games|\n",
      "+---------+------------+----------------+---+-------+--------------------+---------------+---------------+\n",
      "only showing top 5 rows\n",
      "\n"
     ]
    }
   ],
   "source": [
    "vars_to_keep = [\"event\", \n",
    "                \"white_result\", \n",
    "                \"first_two\",\n",
    "                \"ECO\",\n",
    "                \"EloDiff\",\n",
    "                \"Opening\",\n",
    "                \"game_complexity\",\n",
    "                \"opening_class\"]\n",
    "\n",
    "df_filtered.select(vars_to_keep).show(5)"
   ]
  },
  {
   "cell_type": "code",
   "execution_count": 19,
   "metadata": {},
   "outputs": [],
   "source": [
    "# subset the dataframe on these predictors\n",
    "df_final = df_filtered.select(vars_to_keep)"
   ]
  },
  {
   "cell_type": "code",
   "execution_count": 20,
   "metadata": {},
   "outputs": [],
   "source": [
    "df_final.write.mode(\"overwrite\").parquet(\"../../data/processed/chess_games_moves_model.parquet\")"
   ]
  },
  {
   "cell_type": "markdown",
   "metadata": {},
   "source": [
    "Next we split our data for future modeling using a 60, 30, 10 split for training, testing, and validation."
   ]
  },
  {
   "cell_type": "code",
   "execution_count": 21,
   "metadata": {},
   "outputs": [],
   "source": [
    "trainData, testData, validationData  = df_final.randomSplit([0.6, 0.3, 0.1], seed=314)"
   ]
  },
  {
   "cell_type": "code",
   "execution_count": 22,
   "metadata": {},
   "outputs": [],
   "source": [
    "trainData.write.mode(\"overwrite\").parquet(\"../../data/processed/training.parquet\")"
   ]
  },
  {
   "cell_type": "code",
   "execution_count": 23,
   "metadata": {},
   "outputs": [],
   "source": [
    "testData.write.mode(\"overwrite\").parquet(\"../../data/processed/testing.parquet\")"
   ]
  },
  {
   "cell_type": "code",
   "execution_count": 24,
   "metadata": {},
   "outputs": [],
   "source": [
    "validationData.write.mode(\"overwrite\").parquet(\"../../data/processed/validation.parquet\")"
   ]
  }
 ],
 "metadata": {
  "kernelspec": {
   "display_name": "DS 5110 Spark 3.1",
   "language": "python",
   "name": "ds5110_spark3.1"
  },
  "language_info": {
   "codemirror_mode": {
    "name": "ipython",
    "version": 3
   },
   "file_extension": ".py",
   "mimetype": "text/x-python",
   "name": "python",
   "nbconvert_exporter": "python",
   "pygments_lexer": "ipython3",
   "version": "3.7.10"
  }
 },
 "nbformat": 4,
 "nbformat_minor": 4
}
