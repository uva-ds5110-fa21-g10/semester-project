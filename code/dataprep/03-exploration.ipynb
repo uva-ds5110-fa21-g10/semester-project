{
 "cells": [
  {
   "cell_type": "markdown",
   "metadata": {},
   "source": [
    "# Exporatory Analytics of Dataset\n",
    "\n",
    "## DS 5110\n",
    "* Fall 2021\n",
    "* October 3rd\n",
    "* Group 10\n",
    "  * Antone Edelman\n",
    "  * Xin Huang\n",
    "  * Robert Knuuti"
   ]
  },
  {
   "cell_type": "code",
   "execution_count": 1,
   "metadata": {},
   "outputs": [],
   "source": [
    "from pyspark.sql import SparkSession\n",
    "import pyspark.sql.functions as F\n",
    "import pyspark.sql.types as T\n",
    "\n",
    "import pandas as pd\n",
    "import numpy as np\n",
    "\n",
    "spark = SparkSession.builder \\\n",
    "    .master(\"local[*]\") \\\n",
    "    .appName(\"fa21-ds5110-group10\") \\\n",
    "    .getOrCreate()\n",
    "\n",
    "df = spark.read.parquet(\"../../data/processed/chess_games_blitz_classic.parquet\")"
   ]
  },
  {
   "cell_type": "markdown",
   "metadata": {},
   "source": [
    "There's some additional cleanup we have to do beyond the filtering of games to just classic and blitz.\n",
    "Below are our transforms to add new features and to transform the data."
   ]
  },
  {
   "cell_type": "code",
   "execution_count": 2,
   "metadata": {},
   "outputs": [
    {
     "name": "stdout",
     "output_type": "stream",
     "text": [
      "root\n",
      " |-- event: string (nullable = true)\n",
      " |-- white: string (nullable = true)\n",
      " |-- black: string (nullable = true)\n",
      " |-- result: string (nullable = true)\n",
      " |-- UTCDate: date (nullable = true)\n",
      " |-- UTCTime: string (nullable = true)\n",
      " |-- WhiteElo: integer (nullable = true)\n",
      " |-- BlackElo: integer (nullable = true)\n",
      " |-- WhiteRatingDiff: double (nullable = true)\n",
      " |-- BlackRatingDiff: double (nullable = true)\n",
      " |-- ECO: string (nullable = true)\n",
      " |-- Opening: string (nullable = true)\n",
      " |-- TimeControl: string (nullable = true)\n",
      " |-- Termination: string (nullable = true)\n",
      " |-- AN: string (nullable = true)\n",
      "\n",
      "Abandoned Games to drop: 739\n",
      "Refined schema\n",
      "-------------------\n",
      "root\n",
      " |-- event: string (nullable = true)\n",
      " |-- white: string (nullable = true)\n",
      " |-- black: string (nullable = true)\n",
      " |-- result: string (nullable = true)\n",
      " |-- UTCDate: date (nullable = true)\n",
      " |-- UTCTime: string (nullable = true)\n",
      " |-- WhiteElo: integer (nullable = true)\n",
      " |-- BlackElo: integer (nullable = true)\n",
      " |-- WhiteRatingDiff: double (nullable = true)\n",
      " |-- BlackRatingDiff: double (nullable = true)\n",
      " |-- ECO: string (nullable = true)\n",
      " |-- Opening: string (nullable = true)\n",
      " |-- TimeControl: string (nullable = true)\n",
      " |-- Termination: string (nullable = true)\n",
      " |-- AN: string (nullable = true)\n",
      " |-- moves: array (nullable = true)\n",
      " |    |-- element: string (containsNull = true)\n",
      " |-- white_games_won: double (nullable = true)\n",
      " |-- black_games_won: double (nullable = true)\n",
      " |-- tie: boolean (nullable = true)\n",
      " |-- result_moves: integer (nullable = true)\n",
      " |-- game_complexity: integer (nullable = true)\n",
      "\n"
     ]
    }
   ],
   "source": [
    "df.printSchema()\n",
    "\n",
    "print(\"Abandoned Games to drop: {}\".format(df.filter(df.result.contains(\"*\")).count()))\n",
    "# Remove all abandoned games.\n",
    "df_filtered = df.filter(~df.result.contains(\"*\"))\n",
    "\n",
    "from fractions import Fraction as frac\n",
    "\n",
    "# Convert result column into seperate white/black win columns\n",
    "white_win_udf = F.udf(lambda result: float(frac(result.split('-')[0])), T.DoubleType())\n",
    "black_win_udf = F.udf(lambda result: float(frac(result.split('-')[1])), T.DoubleType())\n",
    "\n",
    "# We break apar the AN notation for chess moves into arrays\n",
    "def movetype(x):\n",
    "    import re\n",
    "    moves = re.split('\\d+\\. ', x)[1:]\n",
    "    return [x.strip() for x in moves]\n",
    "\n",
    "# We establish a bin rate to determine the complexity of a match (based on number of moves)\n",
    "def bin_moves(x):\n",
    "    if x == 1:\n",
    "        return 1\n",
    "    elif x <= 10:\n",
    "        return 2\n",
    "    elif x <= 20:\n",
    "        return 3\n",
    "    elif x <= 30:\n",
    "        return 4\n",
    "    elif x <= 40:\n",
    "        return 5\n",
    "    elif x <= 50:\n",
    "        return 6\n",
    "    else:\n",
    "        return 7\n",
    "\n",
    "udf_movetype = F.udf(lambda x: movetype(x), T.ArrayType(T.StringType()))\n",
    "df_filtered = df_filtered.withColumn('moves', udf_movetype(F.col('AN')))\n",
    "\n",
    "# Calculate the total number of moves in a game\n",
    "count_udf  = F.udf(lambda result: len(result), T.IntegerType())\n",
    "game_complexity_udf = F.udf(lambda result: bin_moves(result), T.IntegerType())\n",
    "\n",
    "df_filtered = df_filtered.withColumn(\"white_games_won\", white_win_udf(df_filtered.result))\n",
    "df_filtered = df_filtered.withColumn(\"black_games_won\", black_win_udf(df_filtered.result))\n",
    "df_filtered = df_filtered.withColumn(\"tie\", df_filtered.white_games_won == df_filtered.black_games_won)\n",
    "df_filtered = df_filtered.withColumn(\"result_moves\", count_udf(df_filtered.moves))\n",
    "df_filtered = df_filtered.withColumn(\"game_complexity\", game_complexity_udf(df_filtered.result_moves))\n",
    "\n",
    "print(\"Refined schema\\n-------------------\")\n",
    "df_filtered.printSchema()"
   ]
  },
  {
   "cell_type": "markdown",
   "metadata": {},
   "source": [
    "## Number of records"
   ]
  },
  {
   "cell_type": "code",
   "execution_count": 3,
   "metadata": {},
   "outputs": [
    {
     "name": "stdout",
     "output_type": "stream",
     "text": [
      "Total number of records are: 3850385\n"
     ]
    }
   ],
   "source": [
    "print(f\"Total number of records are: {df.count()}\")"
   ]
  },
  {
   "cell_type": "markdown",
   "metadata": {},
   "source": [
    "Reviewing our dataset, we found that games which were abandoned had a value of \"\\*\" for the results.\n",
    "Given the total number of abandonded records are small in comparison to the others, we chose to drop these from our dataset.\n"
   ]
  },
  {
   "cell_type": "code",
   "execution_count": 4,
   "metadata": {},
   "outputs": [
    {
     "name": "stdout",
     "output_type": "stream",
     "text": [
      "Total records: 3849646\n"
     ]
    }
   ],
   "source": [
    "print(\"Total records: {}\".format(df_filtered.count()))"
   ]
  },
  {
   "cell_type": "markdown",
   "metadata": {},
   "source": [
    "## Number of columns"
   ]
  },
  {
   "cell_type": "code",
   "execution_count": 5,
   "metadata": {},
   "outputs": [
    {
     "name": "stdout",
     "output_type": "stream",
     "text": [
      "Total number of columns are: 21\n"
     ]
    }
   ],
   "source": [
    "print(f\"Total number of columns are: {len(df_filtered.columns)}\")"
   ]
  },
  {
   "cell_type": "markdown",
   "metadata": {},
   "source": [
    "## Statistical Summary of Response Variable"
   ]
  },
  {
   "cell_type": "code",
   "execution_count": 6,
   "metadata": {},
   "outputs": [
    {
     "name": "stdout",
     "output_type": "stream",
     "text": [
      "+-------+------------------+------------------+\n",
      "|summary|   white_games_won|   black_games_won|\n",
      "+-------+------------------+------------------+\n",
      "|  count|           3849646|           3849646|\n",
      "|   mean|0.5174984920691409|0.4825015079308591|\n",
      "| stddev|0.4893233465605675|0.4893233465605674|\n",
      "|    min|               0.0|               0.0|\n",
      "|    max|               1.0|               1.0|\n",
      "+-------+------------------+------------------+\n",
      "\n"
     ]
    }
   ],
   "source": [
    "df_filtered.select([\"white_games_won\", \"black_games_won\"]).describe().show()"
   ]
  },
  {
   "cell_type": "markdown",
   "metadata": {},
   "source": [
    "## Statistical summary of potential predictor variables (if there are a large number of predictors, select the top 10)\n",
    "\n",
    "*Note*: Summarize categorical variables with counts and percentages for each level and summarize numerical variables with mean/quantiles/standard deviation."
   ]
  },
  {
   "cell_type": "code",
   "execution_count": 7,
   "metadata": {},
   "outputs": [
    {
     "name": "stdout",
     "output_type": "stream",
     "text": [
      "+-------+------------------+------------------+------------------+------------------+-------+-----------+\n",
      "|summary|          WhiteElo|          BlackElo|      result_moves|   game_complexity|    ECO|TimeControl|\n",
      "+-------+------------------+------------------+------------------+------------------+-------+-----------+\n",
      "|  count|           3849646|           3849646|           3849646|           3849646|3849646|    3849646|\n",
      "|   mean| 1710.584323078018| 1708.761483263656| 33.67180099157169| 4.713608212287571|   null|       null|\n",
      "| stddev|263.42156710132883|264.54823496140455|16.135177630271578|1.4317312876052417|   null|       null|\n",
      "|    min|               762|               728|                 1|                 1|    A00|       0+10|\n",
      "|    max|              2906|              2907|               265|                 7|    E99|     960+90|\n",
      "+-------+------------------+------------------+------------------+------------------+-------+-----------+\n",
      "\n"
     ]
    }
   ],
   "source": [
    "df_filtered.select([\"WhiteElo\", \"BlackElo\", \"result_moves\", \"game_complexity\", \"ECO\", \"TimeControl\"]).describe().show()"
   ]
  },
  {
   "cell_type": "markdown",
   "metadata": {},
   "source": [
    "## Include up to five helpful graphs"
   ]
  },
  {
   "cell_type": "code",
   "execution_count": 8,
   "metadata": {},
   "outputs": [],
   "source": [
    "import matplotlib.pyplot as plt\n",
    "import pandas as pd\n",
    "%matplotlib inline\n",
    "\n",
    "df_games_per_date = df_filtered.groupBy([\"UTCDate\"]).count().sort(\"UTCDate\")"
   ]
  },
  {
   "cell_type": "code",
   "execution_count": 9,
   "metadata": {},
   "outputs": [
    {
     "name": "stdout",
     "output_type": "stream",
     "text": [
      "+----------+------+\n",
      "|   UTCDate| count|\n",
      "+----------+------+\n",
      "|2016-01-01|122509|\n",
      "|2016-01-02|118505|\n",
      "|2016-01-03|125872|\n",
      "|2016-01-04|126164|\n",
      "|2016-01-05|126510|\n",
      "|2016-01-06|123911|\n",
      "|2016-01-07|120516|\n",
      "|2016-01-08|120251|\n",
      "|2016-01-09|121369|\n",
      "|2016-01-10|118696|\n",
      "|2016-01-11|125050|\n",
      "|2016-01-12|126923|\n",
      "|2016-01-13|123122|\n",
      "|2016-01-14|124756|\n",
      "|2016-01-15|119807|\n",
      "|2016-01-16|117771|\n",
      "|2016-01-17|122558|\n",
      "|2016-01-18|124395|\n",
      "|2016-01-19|126099|\n",
      "|2016-01-20|124523|\n",
      "|2016-01-21|124697|\n",
      "|2016-01-22|123922|\n",
      "|2016-01-23|121811|\n",
      "|2016-01-24|125713|\n",
      "|2016-01-25|128957|\n",
      "|2016-01-26|129451|\n",
      "|2016-01-27|130184|\n",
      "|2016-01-28|130266|\n",
      "|2016-01-29|126155|\n",
      "|2016-01-30|132878|\n",
      "|2016-01-31|116305|\n",
      "+----------+------+\n",
      "\n"
     ]
    },
    {
     "data": {
      "text/plain": [
       "Text(0.5, 1.0, 'Events per Day')"
      ]
     },
     "execution_count": 9,
     "metadata": {},
     "output_type": "execute_result"
    },
    {
     "data": {
      "image/png": "[encoded data removed]",
      "text/plain": [
       "<Figure size 432x288 with 1 Axes>"
      ]
     },
     "metadata": {
      "needs_background": "light"
     },
     "output_type": "display_data"
    }
   ],
   "source": [
    "df_games_per_date.show(31)\n",
    "df_pandas = df_games_per_date.toPandas()\n",
    "plt.plot(df_pandas['UTCDate'], df_pandas['count'])\n",
    "plt.xticks(rotation=90)\n",
    "plt.xlabel(\"Date\")\n",
    "plt.ylabel(\"Games\")\n",
    "plt.title(\"Events per Day\")"
   ]
  },
  {
   "cell_type": "code",
   "execution_count": 10,
   "metadata": {},
   "outputs": [
    {
     "data": {
      "text/plain": [
       "Text(0.5, 1.0, 'Events per Day')"
      ]
     },
     "execution_count": 10,
     "metadata": {},
     "output_type": "execute_result"
    },
    {
     "data": {
      "image/png": "[encoded data removed]",
      "text/plain": [
       "<Figure size 432x288 with 1 Axes>"
      ]
     },
     "metadata": {
      "needs_background": "light"
     },
     "output_type": "display_data"
    }
   ],
   "source": [
    "moves_count = df_filtered.select('result_moves').toPandas()\n",
    "\n",
    "plt.violinplot(moves_count,\n",
    "               showmeans=False,\n",
    "               showmedians=True)\n",
    "plt.ylim(0,115) #Note there are outliers beyond 100 moves; to be filtered in future transforms.\n",
    "plt.xlabel(\"Density\")\n",
    "plt.ylabel(\"Number of Moves\")\n",
    "plt.title(\"Events per Day\")"
   ]
  },
  {
   "cell_type": "code",
   "execution_count": 11,
   "metadata": {},
   "outputs": [
    {
     "data": {
      "text/html": [
       "<div>\n",
       "<style scoped>\n",
       "    .dataframe tbody tr th:only-of-type {\n",
       "        vertical-align: middle;\n",
       "    }\n",
       "\n",
       "    .dataframe tbody tr th {\n",
       "        vertical-align: top;\n",
       "    }\n",
       "\n",
       "    .dataframe thead th {\n",
       "        text-align: right;\n",
       "    }\n",
       "</style>\n",
       "<table border=\"1\" class=\"dataframe\">\n",
       "  <thead>\n",
       "    <tr style=\"text-align: right;\">\n",
       "      <th></th>\n",
       "      <th>white_games_won</th>\n",
       "      <th>count</th>\n",
       "    </tr>\n",
       "  </thead>\n",
       "  <tbody>\n",
       "    <tr>\n",
       "      <th>0</th>\n",
       "      <td>loss</td>\n",
       "      <td>1778492</td>\n",
       "    </tr>\n",
       "    <tr>\n",
       "      <th>1</th>\n",
       "      <td>win</td>\n",
       "      <td>1913218</td>\n",
       "    </tr>\n",
       "    <tr>\n",
       "      <th>2</th>\n",
       "      <td>tie</td>\n",
       "      <td>157936</td>\n",
       "    </tr>\n",
       "  </tbody>\n",
       "</table>\n",
       "</div>"
      ],
      "text/plain": [
       "  white_games_won    count\n",
       "0            loss  1778492\n",
       "1             win  1913218\n",
       "2             tie   157936"
      ]
     },
     "metadata": {},
     "output_type": "display_data"
    },
    {
     "data": {
      "text/plain": [
       "Text(0.5, 1.0, 'Game Result Summary for White')"
      ]
     },
     "execution_count": 11,
     "metadata": {},
     "output_type": "execute_result"
    },
    {
     "data": {
      "image/png": "[encoded data removed]",
      "text/plain": [
       "<Figure size 432x288 with 1 Axes>"
      ]
     },
     "metadata": {
      "needs_background": "light"
     },
     "output_type": "display_data"
    }
   ],
   "source": [
    "def label_wins(x):\n",
    "    if x == 0.0:\n",
    "        return 'loss'\n",
    "    elif x == 0.5:\n",
    "        return 'tie'\n",
    "    else:\n",
    "        return 'win'\n",
    "\n",
    "white_wins = df_filtered.groupBy('white_games_won').count().toPandas()\n",
    "white_wins['white_games_won'] = white_wins['white_games_won'].apply(label_wins)\n",
    "\n",
    "display(white_wins)\n",
    "plt.bar(x=white_wins['white_games_won'], height=white_wins['count'])\n",
    "plt.xlabel(\"White Game Result\")\n",
    "plt.ylabel(\"Number of Games\")\n",
    "plt.title(\"Game Result Summary for White\")"
   ]
  },
  {
   "cell_type": "code",
   "execution_count": 12,
   "metadata": {},
   "outputs": [
    {
     "data": {
      "text/plain": [
       "Text(0.5, 1.0, 'Complexity of Games by Count')"
      ]
     },
     "execution_count": 12,
     "metadata": {},
     "output_type": "execute_result"
    },
    {
     "data": {
      "image/png": "[encoded data removed]",
      "text/plain": [
       "<Figure size 432x288 with 1 Axes>"
      ]
     },
     "metadata": {
      "needs_background": "light"
     },
     "output_type": "display_data"
    }
   ],
   "source": [
    "binned_moves = df_filtered.groupBy('game_complexity').count().toPandas()\n",
    "\n",
    "plt.bar(x=[1,2,3,4,5,6,7], height=binned_moves['count'])\n",
    "plt.xlabel(\"Game Complexity\")\n",
    "plt.ylabel(\"Number of Games\")\n",
    "plt.title(\"Complexity of Games by Count\")"
   ]
  }
 ],
 "metadata": {
  "kernelspec": {
   "display_name": "DS 5110 Spark 3.1",
   "language": "python",
   "name": "ds5110_spark3.1"
  },
  "language_info": {
   "codemirror_mode": {
    "name": "ipython",
    "version": 3
   },
   "file_extension": ".py",
   "mimetype": "text/x-python",
   "name": "python",
   "nbconvert_exporter": "python",
   "pygments_lexer": "ipython3",
   "version": "3.7.10"
  }
 },
 "nbformat": 4,
 "nbformat_minor": 4
}
