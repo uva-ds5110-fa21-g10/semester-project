{
 "cells": [
  {
   "cell_type": "code",
   "execution_count": 29,
   "id": "c4b7bf80",
   "metadata": {},
   "outputs": [],
   "source": [
    "from pyspark.sql import SparkSession\n",
    "from pyspark.sql import functions as F\n",
    "from pyspark.sql import types as T\n",
    "\n",
    "from pyspark.ml import Pipeline\n",
    "from pyspark.ml.feature import CountVectorizer\n",
    "from pyspark.ml.feature import StringIndexer\n",
    "from pyspark.ml.feature import OneHotEncoder\n",
    "from pyspark.ml.feature import VectorAssembler\n",
    "\n",
    "from pyspark.ml.tuning import ParamGridBuilder\n",
    "from pyspark.ml.tuning import CrossValidator\n",
    "\n",
    "from pyspark.ml.classification import NaiveBayes\n",
    "from pyspark.ml.evaluation import BinaryClassificationEvaluator\n",
    "from pyspark.mllib.evaluation import MulticlassMetrics\n",
    "\n",
    "import pandas as pd\n",
    "import numpy as np\n",
    "import seaborn as sns\n",
    "from fractions import Fraction as frac"
   ]
  },
  {
   "cell_type": "code",
   "execution_count": 30,
   "id": "51176915",
   "metadata": {},
   "outputs": [],
   "source": [
    "%matplotlib inline"
   ]
  },
  {
   "cell_type": "code",
   "execution_count": 31,
   "id": "89d2bc30",
   "metadata": {},
   "outputs": [],
   "source": [
    "spark = SparkSession.builder \\\n",
    "    .master(\"local[*]\") \\\n",
    "    .appName(\"fa21-ds5110-group10-rk\") \\\n",
    "    .config(\"spark.driver.memory\", \"12g\") \\\n",
    "    .getOrCreate()"
   ]
  },
  {
   "cell_type": "code",
   "execution_count": 32,
   "id": "779db596",
   "metadata": {},
   "outputs": [
    {
     "data": {
      "text/html": [
       "\n",
       "        <div>\n",
       "            <p><b>SparkContext</b></p>\n",
       "\n",
       "            <p><a href=\"http://udc-ba33-31c0:4041\">Spark UI</a></p>\n",
       "\n",
       "            <dl>\n",
       "              <dt>Version</dt>\n",
       "                <dd><code>v3.1.2</code></dd>\n",
       "              <dt>Master</dt>\n",
       "                <dd><code>local[*]</code></dd>\n",
       "              <dt>AppName</dt>\n",
       "                <dd><code>fa21-ds5110-group10-rk</code></dd>\n",
       "            </dl>\n",
       "        </div>\n",
       "        "
      ],
      "text/plain": [
       "<SparkContext master=local[*] appName=fa21-ds5110-group10-rk>"
      ]
     },
     "execution_count": 32,
     "metadata": {},
     "output_type": "execute_result"
    }
   ],
   "source": [
    "spark.sparkContext"
   ]
  },
  {
   "cell_type": "code",
   "execution_count": 33,
   "id": "9eca50c0",
   "metadata": {},
   "outputs": [],
   "source": [
    "df = spark.read.parquet(\"../../../data/processed/chess_games_moves_model.parquet\")\n",
    "trainData = spark.read.parquet(\"../../../data/processed/training.parquet\")\n",
    "testData = spark.read.parquet(\"../../../data/processed/testing.parquet\")"
   ]
  },
  {
   "cell_type": "code",
   "execution_count": 34,
   "id": "7312546c",
   "metadata": {},
   "outputs": [
    {
     "data": {
      "text/plain": [
       "DataFrame[event: string, white_result: string, first_two: array<string>, ECO: string, EloDiff: int, Opening: string, game_complexity: int]"
      ]
     },
     "execution_count": 34,
     "metadata": {},
     "output_type": "execute_result"
    }
   ],
   "source": [
    "df.cache()\n",
    "trainData.cache()"
   ]
  },
  {
   "cell_type": "code",
   "execution_count": 35,
   "id": "df70acfd",
   "metadata": {},
   "outputs": [],
   "source": [
    "opening_vectorizor = StringIndexer(inputCol=\"ECO\", outputCol=\"opening_ohe\")\n",
    "gametype_vectorizer = StringIndexer(inputCol=\"event\", outputCol=\"event_vector\")\n",
    "result_vectorizor = StringIndexer(inputCol=\"white_result\", outputCol=\"white_result_vector\")\n",
    "\n",
    "# NaiveBayes requires non-negative values; we transpose our ELODiff to ABS Value.\n",
    "df = df.withColumn('EloDiff', F.abs(F.col('EloDiff')))\n",
    "trainData = trainData.withColumn('EloDiff', F.abs(F.col('EloDiff')))\n",
    "testData = testData.withColumn('EloDiff', F.abs(F.col('EloDiff')))"
   ]
  },
  {
   "cell_type": "code",
   "execution_count": 36,
   "id": "a0ff472e",
   "metadata": {},
   "outputs": [],
   "source": [
    "move_encoder = OneHotEncoder(inputCols=[\"opening_ohe\"],\n",
    "                             outputCols=[\"ECO_Type\"])"
   ]
  },
  {
   "cell_type": "code",
   "execution_count": 37,
   "id": "396497e5",
   "metadata": {},
   "outputs": [],
   "source": [
    "firsttwo_vectorizer = CountVectorizer(inputCol=\"first_two\", outputCol=\"first_two_vectorizer\")"
   ]
  },
  {
   "cell_type": "code",
   "execution_count": 38,
   "id": "9dfa9922",
   "metadata": {},
   "outputs": [],
   "source": [
    "features_assembler = VectorAssembler(inputCols=['ECO_Type', \"EloDiff\", \"event_vector\", \"first_two_vectorizer\"], outputCol='features')"
   ]
  },
  {
   "cell_type": "code",
   "execution_count": 39,
   "id": "abe2f76f",
   "metadata": {},
   "outputs": [],
   "source": [
    "nb = NaiveBayes(smoothing=1.0, modelType=\"multinomial\", featuresCol='features', labelCol='white_result_vector')"
   ]
  },
  {
   "cell_type": "code",
   "execution_count": 40,
   "id": "fa0ba11c",
   "metadata": {},
   "outputs": [],
   "source": [
    "auc_evaluator = BinaryClassificationEvaluator(labelCol='white_result_vector', metricName='areaUnderROC')"
   ]
  },
  {
   "cell_type": "code",
   "execution_count": 41,
   "id": "e170282f",
   "metadata": {},
   "outputs": [],
   "source": [
    "SEED = 1337\n",
    "\n",
    "smoothing = [0.0, 0.2, 0.4, 0.6, 0.8, 1.0]\n",
    "grid = ParamGridBuilder()\\\n",
    "        .addGrid(nb.smoothing, smoothing)\\\n",
    "        .build()\n",
    "\n",
    "numFolds = 10 #2\n",
    "\n",
    "crossval = CrossValidator(\n",
    "    estimator=nb,\n",
    "    estimatorParamMaps=grid,\n",
    "    evaluator=auc_evaluator,\n",
    "    numFolds=numFolds,\n",
    "    parallelism=4,\n",
    "    seed = SEED)"
   ]
  },
  {
   "cell_type": "code",
   "execution_count": 42,
   "id": "937e5aa3",
   "metadata": {},
   "outputs": [],
   "source": [
    "data_pipeline = Pipeline(stages=[opening_vectorizor,\n",
    "                                 gametype_vectorizer,\n",
    "                                 result_vectorizor,\n",
    "                                 firsttwo_vectorizer,\n",
    "                                 move_encoder,\n",
    "                                 features_assembler])"
   ]
  },
  {
   "cell_type": "code",
   "execution_count": 43,
   "id": "6e3243d6",
   "metadata": {},
   "outputs": [],
   "source": [
    "# Create our transforms from our full dataset (considers all cases)\n",
    "feature_model_df = data_pipeline.fit(df)\n",
    "\n",
    "# Transform both training and testing dfs\n",
    "training_df = feature_model_df.transform(trainData)\n",
    "testing_df = feature_model_df.transform(testData)"
   ]
  },
  {
   "cell_type": "code",
   "execution_count": 44,
   "id": "48d7d719",
   "metadata": {},
   "outputs": [
    {
     "name": "stdout",
     "output_type": "stream",
     "text": [
      "CPU times: user 2.48 s, sys: 719 ms, total: 3.2 s\n",
      "Wall time: 23min 53s\n"
     ]
    }
   ],
   "source": [
    "%time cvmodel = crossval.setParallelism(4).fit(training_df)"
   ]
  },
  {
   "cell_type": "code",
   "execution_count": 45,
   "id": "7f270961",
   "metadata": {},
   "outputs": [],
   "source": [
    "tuning_params =  [ list(a.values())[0] for a in cvmodel.getEstimatorParamMaps() ]\n",
    "performance = pd.DataFrame(list(zip(tuning_params, cvmodel.avgMetrics)), columns=['Parameter (smoothing)', 'AUC'])\n",
    "pd.set_option(\"precision\", 16)"
   ]
  },
  {
   "cell_type": "code",
   "execution_count": 46,
   "id": "13ea1011",
   "metadata": {},
   "outputs": [
    {
     "data": {
      "text/html": [
       "<div>\n",
       "<style scoped>\n",
       "    .dataframe tbody tr th:only-of-type {\n",
       "        vertical-align: middle;\n",
       "    }\n",
       "\n",
       "    .dataframe tbody tr th {\n",
       "        vertical-align: top;\n",
       "    }\n",
       "\n",
       "    .dataframe thead th {\n",
       "        text-align: right;\n",
       "    }\n",
       "</style>\n",
       "<table border=\"1\" class=\"dataframe\">\n",
       "  <thead>\n",
       "    <tr style=\"text-align: right;\">\n",
       "      <th></th>\n",
       "      <th>Parameter (smoothing)</th>\n",
       "      <th>AUC</th>\n",
       "    </tr>\n",
       "  </thead>\n",
       "  <tbody>\n",
       "    <tr>\n",
       "      <th>0</th>\n",
       "      <td>0.0</td>\n",
       "      <td>0.5060930644293272</td>\n",
       "    </tr>\n",
       "    <tr>\n",
       "      <th>1</th>\n",
       "      <td>0.2</td>\n",
       "      <td>0.5029917755930990</td>\n",
       "    </tr>\n",
       "    <tr>\n",
       "      <th>2</th>\n",
       "      <td>0.4</td>\n",
       "      <td>0.5026773679877306</td>\n",
       "    </tr>\n",
       "    <tr>\n",
       "      <th>3</th>\n",
       "      <td>0.6</td>\n",
       "      <td>0.5024728333423358</td>\n",
       "    </tr>\n",
       "    <tr>\n",
       "      <th>4</th>\n",
       "      <td>0.8</td>\n",
       "      <td>0.5023168739723047</td>\n",
       "    </tr>\n",
       "    <tr>\n",
       "      <th>5</th>\n",
       "      <td>1.0</td>\n",
       "      <td>0.5021890045724255</td>\n",
       "    </tr>\n",
       "  </tbody>\n",
       "</table>\n",
       "</div>"
      ],
      "text/plain": [
       "   Parameter (smoothing)                 AUC\n",
       "0                    0.0  0.5060930644293272\n",
       "1                    0.2  0.5029917755930990\n",
       "2                    0.4  0.5026773679877306\n",
       "3                    0.6  0.5024728333423358\n",
       "4                    0.8  0.5023168739723047\n",
       "5                    1.0  0.5021890045724255"
      ]
     },
     "execution_count": 46,
     "metadata": {},
     "output_type": "execute_result"
    },
    {
     "data": {
      "image/png": "[encoded data removed]",
      "text/plain": [
       "<Figure size 432x288 with 1 Axes>"
      ]
     },
     "metadata": {
      "needs_background": "light"
     },
     "output_type": "display_data"
    }
   ],
   "source": [
    "ax = sns.barplot(data=performance, x='AUC', y='Parameter (smoothing)', orient='h')\n",
    "ax.set(xlim=(min(cvmodel.avgMetrics), max(cvmodel.avgMetrics)))\n",
    "performance"
   ]
  },
  {
   "cell_type": "code",
   "execution_count": 47,
   "id": "28ebd05a",
   "metadata": {},
   "outputs": [],
   "source": [
    "nb_best = cvmodel.bestModel"
   ]
  },
  {
   "cell_type": "code",
   "execution_count": 48,
   "id": "7af22e95",
   "metadata": {},
   "outputs": [],
   "source": [
    "auroc = performance.loc[performance['AUC'].idxmax()]['AUC']"
   ]
  },
  {
   "cell_type": "code",
   "execution_count": 49,
   "id": "cdbb7d73",
   "metadata": {},
   "outputs": [],
   "source": [
    "ml_pipeline = Pipeline(stages=[nb_best])"
   ]
  },
  {
   "cell_type": "code",
   "execution_count": 50,
   "id": "f7553788",
   "metadata": {},
   "outputs": [],
   "source": [
    "model = ml_pipeline.fit(training_df)"
   ]
  },
  {
   "cell_type": "code",
   "execution_count": 51,
   "id": "f1c169d0",
   "metadata": {},
   "outputs": [],
   "source": [
    "result = model.transform(testing_df)"
   ]
  },
  {
   "cell_type": "code",
   "execution_count": 52,
   "id": "d9dc7447",
   "metadata": {},
   "outputs": [
    {
     "data": {
      "text/html": [
       "<div>\n",
       "<style scoped>\n",
       "    .dataframe tbody tr th:only-of-type {\n",
       "        vertical-align: middle;\n",
       "    }\n",
       "\n",
       "    .dataframe tbody tr th {\n",
       "        vertical-align: top;\n",
       "    }\n",
       "\n",
       "    .dataframe thead th {\n",
       "        text-align: right;\n",
       "    }\n",
       "</style>\n",
       "<table border=\"1\" class=\"dataframe\">\n",
       "  <thead>\n",
       "    <tr style=\"text-align: right;\">\n",
       "      <th></th>\n",
       "      <th>0</th>\n",
       "      <th>1</th>\n",
       "    </tr>\n",
       "  </thead>\n",
       "  <tbody>\n",
       "    <tr>\n",
       "      <th>0</th>\n",
       "      <td>322665.0</td>\n",
       "      <td>259097.0</td>\n",
       "    </tr>\n",
       "    <tr>\n",
       "      <th>1</th>\n",
       "      <td>277576.0</td>\n",
       "      <td>296784.0</td>\n",
       "    </tr>\n",
       "  </tbody>\n",
       "</table>\n",
       "</div>"
      ],
      "text/plain": [
       "          0         1\n",
       "0  322665.0  259097.0\n",
       "1  277576.0  296784.0"
      ]
     },
     "execution_count": 52,
     "metadata": {},
     "output_type": "execute_result"
    }
   ],
   "source": [
    "designer_matrix = result.select(['prediction','white_result_vector'])\n",
    "metrics_rdd = MulticlassMetrics(designer_matrix.rdd.map(tuple))\n",
    "pd.DataFrame(metrics_rdd.confusionMatrix().toArray())"
   ]
  },
  {
   "cell_type": "code",
   "execution_count": 53,
   "id": "6fc7e182",
   "metadata": {},
   "outputs": [
    {
     "data": {
      "text/html": [
       "<div>\n",
       "<style scoped>\n",
       "    .dataframe tbody tr th:only-of-type {\n",
       "        vertical-align: middle;\n",
       "    }\n",
       "\n",
       "    .dataframe tbody tr th {\n",
       "        vertical-align: top;\n",
       "    }\n",
       "\n",
       "    .dataframe thead th {\n",
       "        text-align: right;\n",
       "    }\n",
       "</style>\n",
       "<table border=\"1\" class=\"dataframe\">\n",
       "  <thead>\n",
       "    <tr style=\"text-align: right;\">\n",
       "      <th></th>\n",
       "      <th>Metric</th>\n",
       "      <th>Measure</th>\n",
       "    </tr>\n",
       "  </thead>\n",
       "  <tbody>\n",
       "    <tr>\n",
       "      <th>0</th>\n",
       "      <td>AUROC</td>\n",
       "      <td>0.5060930644293272</td>\n",
       "    </tr>\n",
       "    <tr>\n",
       "      <th>1</th>\n",
       "      <td>Accuracy</td>\n",
       "      <td>0.5357989900719821</td>\n",
       "    </tr>\n",
       "    <tr>\n",
       "      <th>2</th>\n",
       "      <td>Precision</td>\n",
       "      <td>0.5338984422925050</td>\n",
       "    </tr>\n",
       "    <tr>\n",
       "      <th>3</th>\n",
       "      <td>Recall</td>\n",
       "      <td>0.5167212201406783</td>\n",
       "    </tr>\n",
       "    <tr>\n",
       "      <th>4</th>\n",
       "      <td>F1 Score</td>\n",
       "      <td>0.5251694107716850</td>\n",
       "    </tr>\n",
       "  </tbody>\n",
       "</table>\n",
       "</div>"
      ],
      "text/plain": [
       "      Metric             Measure\n",
       "0      AUROC  0.5060930644293272\n",
       "1   Accuracy  0.5357989900719821\n",
       "2  Precision  0.5338984422925050\n",
       "3     Recall  0.5167212201406783\n",
       "4   F1 Score  0.5251694107716850"
      ]
     },
     "execution_count": 53,
     "metadata": {},
     "output_type": "execute_result"
    }
   ],
   "source": [
    "accuracy = metrics_rdd.accuracy\n",
    "precision = metrics_rdd.precision(1.0)\n",
    "recall = metrics_rdd.recall(1.0)\n",
    "f1Score = metrics_rdd.fMeasure(1.0)\n",
    "\n",
    "label = 1.0\n",
    "nb_performance = pd.DataFrame([['AUROC', auroc],\n",
    "                               ['Accuracy',  metrics_rdd.accuracy],\n",
    "                               ['Precision', metrics_rdd.precision(label)],\n",
    "                               ['Recall',    metrics_rdd.recall(label)],\n",
    "                               ['F1 Score',  metrics_rdd.fMeasure(label)]],\n",
    "                              columns=['Metric', 'Measure'])\n",
    "nb_performance"
   ]
  },
  {
   "cell_type": "code",
   "execution_count": 54,
   "id": "189675e3",
   "metadata": {},
   "outputs": [
    {
     "data": {
      "text/plain": [
       "[(0.5050930644293272, 0.5367989900719821)]"
      ]
     },
     "execution_count": 54,
     "metadata": {},
     "output_type": "execute_result"
    },
    {
     "data": {
      "image/png": "[encoded data removed]",
      "text/plain": [
       "<Figure size 432x288 with 1 Axes>"
      ]
     },
     "metadata": {
      "needs_background": "light"
     },
     "output_type": "display_data"
    }
   ],
   "source": [
    "ax2 = sns.barplot(data=nb_performance, x='Metric', y='Measure')\n",
    "ax2.set(ylim=(min(nb_performance['Measure'])-0.001, max(nb_performance['Measure'])+0.001))"
   ]
  },
  {
   "cell_type": "code",
   "execution_count": 70,
   "id": "985e9621",
   "metadata": {},
   "outputs": [
    {
     "ename": "KeyboardInterrupt",
     "evalue": "",
     "output_type": "error",
     "traceback": [
      "\u001b[0;31m---------------------------------------------------------------------------\u001b[0m",
      "\u001b[0;31mKeyboardInterrupt\u001b[0m                         Traceback (most recent call last)",
      "    \u001b[0;31m[... skipping hidden 1 frame]\u001b[0m\n",
      "\u001b[0;32m<ipython-input-70-30fa408685f4>\u001b[0m in \u001b[0;36m<module>\u001b[0;34m\u001b[0m\n\u001b[0;32m----> 1\u001b[0;31m \u001b[0mmodel_result\u001b[0m \u001b[0;34m=\u001b[0m \u001b[0mresult\u001b[0m\u001b[0;34m.\u001b[0m\u001b[0mcollect\u001b[0m\u001b[0;34m(\u001b[0m\u001b[0;34m)\u001b[0m\u001b[0;34m\u001b[0m\u001b[0;34m\u001b[0m\u001b[0m\n\u001b[0m",
      "\u001b[0;32m/usr/local/spark/python/pyspark/sql/dataframe.py\u001b[0m in \u001b[0;36mcollect\u001b[0;34m(self)\u001b[0m\n\u001b[1;32m    677\u001b[0m             \u001b[0msock_info\u001b[0m \u001b[0;34m=\u001b[0m \u001b[0mself\u001b[0m\u001b[0;34m.\u001b[0m\u001b[0m_jdf\u001b[0m\u001b[0;34m.\u001b[0m\u001b[0mcollectToPython\u001b[0m\u001b[0;34m(\u001b[0m\u001b[0;34m)\u001b[0m\u001b[0;34m\u001b[0m\u001b[0;34m\u001b[0m\u001b[0m\n\u001b[0;32m--> 678\u001b[0;31m         \u001b[0;32mreturn\u001b[0m \u001b[0mlist\u001b[0m\u001b[0;34m(\u001b[0m\u001b[0m_load_from_socket\u001b[0m\u001b[0;34m(\u001b[0m\u001b[0msock_info\u001b[0m\u001b[0;34m,\u001b[0m \u001b[0mBatchedSerializer\u001b[0m\u001b[0;34m(\u001b[0m\u001b[0mPickleSerializer\u001b[0m\u001b[0;34m(\u001b[0m\u001b[0;34m)\u001b[0m\u001b[0;34m)\u001b[0m\u001b[0;34m)\u001b[0m\u001b[0;34m)\u001b[0m\u001b[0;34m\u001b[0m\u001b[0;34m\u001b[0m\u001b[0m\n\u001b[0m\u001b[1;32m    679\u001b[0m \u001b[0;34m\u001b[0m\u001b[0m\n",
      "\u001b[0;32m/usr/local/spark/python/pyspark/serializers.py\u001b[0m in \u001b[0;36mload_stream\u001b[0;34m(self, stream)\u001b[0m\n\u001b[1;32m    137\u001b[0m             \u001b[0;32mtry\u001b[0m\u001b[0;34m:\u001b[0m\u001b[0;34m\u001b[0m\u001b[0;34m\u001b[0m\u001b[0m\n\u001b[0;32m--> 138\u001b[0;31m                 \u001b[0;32myield\u001b[0m \u001b[0mself\u001b[0m\u001b[0;34m.\u001b[0m\u001b[0m_read_with_length\u001b[0m\u001b[0;34m(\u001b[0m\u001b[0mstream\u001b[0m\u001b[0;34m)\u001b[0m\u001b[0;34m\u001b[0m\u001b[0;34m\u001b[0m\u001b[0m\n\u001b[0m\u001b[1;32m    139\u001b[0m             \u001b[0;32mexcept\u001b[0m \u001b[0mEOFError\u001b[0m\u001b[0;34m:\u001b[0m\u001b[0;34m\u001b[0m\u001b[0;34m\u001b[0m\u001b[0m\n",
      "\u001b[0;32m/usr/local/spark/python/pyspark/serializers.py\u001b[0m in \u001b[0;36m_read_with_length\u001b[0;34m(self, stream)\u001b[0m\n\u001b[1;32m    151\u001b[0m     \u001b[0;32mdef\u001b[0m \u001b[0m_read_with_length\u001b[0m\u001b[0;34m(\u001b[0m\u001b[0mself\u001b[0m\u001b[0;34m,\u001b[0m \u001b[0mstream\u001b[0m\u001b[0;34m)\u001b[0m\u001b[0;34m:\u001b[0m\u001b[0;34m\u001b[0m\u001b[0;34m\u001b[0m\u001b[0m\n\u001b[0;32m--> 152\u001b[0;31m         \u001b[0mlength\u001b[0m \u001b[0;34m=\u001b[0m \u001b[0mread_int\u001b[0m\u001b[0;34m(\u001b[0m\u001b[0mstream\u001b[0m\u001b[0;34m)\u001b[0m\u001b[0;34m\u001b[0m\u001b[0;34m\u001b[0m\u001b[0m\n\u001b[0m\u001b[1;32m    153\u001b[0m         \u001b[0;32mif\u001b[0m \u001b[0mlength\u001b[0m \u001b[0;34m==\u001b[0m \u001b[0mSpecialLengths\u001b[0m\u001b[0;34m.\u001b[0m\u001b[0mEND_OF_DATA_SECTION\u001b[0m\u001b[0;34m:\u001b[0m\u001b[0;34m\u001b[0m\u001b[0;34m\u001b[0m\u001b[0m\n",
      "\u001b[0;32m/usr/local/spark/python/pyspark/serializers.py\u001b[0m in \u001b[0;36mread_int\u001b[0;34m(stream)\u001b[0m\n\u001b[1;32m    561\u001b[0m \u001b[0;32mdef\u001b[0m \u001b[0mread_int\u001b[0m\u001b[0;34m(\u001b[0m\u001b[0mstream\u001b[0m\u001b[0;34m)\u001b[0m\u001b[0;34m:\u001b[0m\u001b[0;34m\u001b[0m\u001b[0;34m\u001b[0m\u001b[0m\n\u001b[0;32m--> 562\u001b[0;31m     \u001b[0mlength\u001b[0m \u001b[0;34m=\u001b[0m \u001b[0mstream\u001b[0m\u001b[0;34m.\u001b[0m\u001b[0mread\u001b[0m\u001b[0;34m(\u001b[0m\u001b[0;36m4\u001b[0m\u001b[0;34m)\u001b[0m\u001b[0;34m\u001b[0m\u001b[0;34m\u001b[0m\u001b[0m\n\u001b[0m\u001b[1;32m    563\u001b[0m     \u001b[0;32mif\u001b[0m \u001b[0;32mnot\u001b[0m \u001b[0mlength\u001b[0m\u001b[0;34m:\u001b[0m\u001b[0;34m\u001b[0m\u001b[0;34m\u001b[0m\u001b[0m\n",
      "\u001b[0;32m/opt/conda/lib/python3.7/socket.py\u001b[0m in \u001b[0;36mreadinto\u001b[0;34m(self, b)\u001b[0m\n\u001b[1;32m    588\u001b[0m             \u001b[0;32mtry\u001b[0m\u001b[0;34m:\u001b[0m\u001b[0;34m\u001b[0m\u001b[0;34m\u001b[0m\u001b[0m\n\u001b[0;32m--> 589\u001b[0;31m                 \u001b[0;32mreturn\u001b[0m \u001b[0mself\u001b[0m\u001b[0;34m.\u001b[0m\u001b[0m_sock\u001b[0m\u001b[0;34m.\u001b[0m\u001b[0mrecv_into\u001b[0m\u001b[0;34m(\u001b[0m\u001b[0mb\u001b[0m\u001b[0;34m)\u001b[0m\u001b[0;34m\u001b[0m\u001b[0;34m\u001b[0m\u001b[0m\n\u001b[0m\u001b[1;32m    590\u001b[0m             \u001b[0;32mexcept\u001b[0m \u001b[0mtimeout\u001b[0m\u001b[0;34m:\u001b[0m\u001b[0;34m\u001b[0m\u001b[0;34m\u001b[0m\u001b[0m\n",
      "\u001b[0;31mKeyboardInterrupt\u001b[0m: ",
      "\nDuring handling of the above exception, another exception occurred:\n",
      "\u001b[0;31mKeyboardInterrupt\u001b[0m                         Traceback (most recent call last)",
      "\u001b[0;31mKeyboardInterrupt\u001b[0m: "
     ]
    }
   ],
   "source": [
    "model_result = result.collect()"
   ]
  },
  {
   "cell_type": "code",
   "execution_count": null,
   "id": "6c2ffa57",
   "metadata": {},
   "outputs": [],
   "source": []
  }
 ],
 "metadata": {
  "kernelspec": {
   "display_name": "DS 5110 Spark 3.1",
   "language": "python",
   "name": "ds5110_spark3.1"
  },
  "language_info": {
   "codemirror_mode": {
    "name": "ipython",
    "version": 3
   },
   "file_extension": ".py",
   "mimetype": "text/x-python",
   "name": "python",
   "nbconvert_exporter": "python",
   "pygments_lexer": "ipython3",
   "version": "3.7.10"
  }
 },
 "nbformat": 4,
 "nbformat_minor": 5
}
