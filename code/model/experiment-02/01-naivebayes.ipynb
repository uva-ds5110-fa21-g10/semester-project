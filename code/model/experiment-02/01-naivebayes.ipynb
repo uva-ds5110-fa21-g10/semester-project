{
 "cells": [
  {
   "cell_type": "code",
   "execution_count": 30,
   "id": "f147052c",
   "metadata": {},
   "outputs": [],
   "source": [
    "from pyspark.sql import SparkSession\n",
    "from pyspark.sql import functions as F\n",
    "from pyspark.sql import types as T\n",
    "\n",
    "from pyspark.ml import Pipeline\n",
    "from pyspark.ml.feature import CountVectorizer\n",
    "from pyspark.ml.feature import StringIndexer\n",
    "from pyspark.ml.feature import OneHotEncoder\n",
    "from pyspark.ml.feature import VectorAssembler\n",
    "\n",
    "from pyspark.ml.tuning import ParamGridBuilder\n",
    "from pyspark.ml.tuning import CrossValidator\n",
    "\n",
    "from pyspark.ml.classification import NaiveBayes\n",
    "from pyspark.ml.evaluation import BinaryClassificationEvaluator\n",
    "from pyspark.mllib.evaluation import MulticlassMetrics\n",
    "\n",
    "import pandas as pd\n",
    "import numpy as np\n",
    "import seaborn as sns\n",
    "from fractions import Fraction as frac"
   ]
  },
  {
   "cell_type": "code",
   "execution_count": 31,
   "id": "fcc8e45a",
   "metadata": {},
   "outputs": [],
   "source": [
    "%matplotlib inline"
   ]
  },
  {
   "cell_type": "code",
   "execution_count": 32,
   "id": "1db3b70f",
   "metadata": {},
   "outputs": [],
   "source": [
    "spark = SparkSession.builder \\\n",
    "    .master(\"local[*]\") \\\n",
    "    .appName(\"fa21-ds5110-group10-rk\") \\\n",
    "    .config(\"spark.driver.memory\", \"12g\") \\\n",
    "    .getOrCreate()"
   ]
  },
  {
   "cell_type": "code",
   "execution_count": 33,
   "id": "55d851f8",
   "metadata": {},
   "outputs": [
    {
     "data": {
      "text/html": [
       "\n",
       "        <div>\n",
       "            <p><b>SparkContext</b></p>\n",
       "\n",
       "            <p><a href=\"http://udc-ba33-31c0:4040\">Spark UI</a></p>\n",
       "\n",
       "            <dl>\n",
       "              <dt>Version</dt>\n",
       "                <dd><code>v3.1.2</code></dd>\n",
       "              <dt>Master</dt>\n",
       "                <dd><code>local[*]</code></dd>\n",
       "              <dt>AppName</dt>\n",
       "                <dd><code>fa21-ds5110-group10-rk</code></dd>\n",
       "            </dl>\n",
       "        </div>\n",
       "        "
      ],
      "text/plain": [
       "<SparkContext master=local[*] appName=fa21-ds5110-group10-rk>"
      ]
     },
     "execution_count": 33,
     "metadata": {},
     "output_type": "execute_result"
    }
   ],
   "source": [
    "spark.sparkContext"
   ]
  },
  {
   "cell_type": "markdown",
   "id": "887b0d92",
   "metadata": {},
   "source": [
    "First, let's load our preformatted dataset from dataprep and the prepartitioned divided training and test data."
   ]
  },
  {
   "cell_type": "code",
   "execution_count": 34,
   "id": "3f90c265",
   "metadata": {},
   "outputs": [],
   "source": [
    "df = spark.read.parquet(\"../../../data/processed/chess_games_moves_model.parquet\")\n",
    "trainData = spark.read.parquet(\"../../../data/processed/training.parquet\")\n",
    "testData = spark.read.parquet(\"../../../data/processed/testing.parquet\")"
   ]
  },
  {
   "cell_type": "markdown",
   "id": "790484f4",
   "metadata": {},
   "source": [
    "Next we'll cache the training dataframe as we'll be running cross validation against its data."
   ]
  },
  {
   "cell_type": "code",
   "execution_count": 35,
   "id": "69c88e21",
   "metadata": {},
   "outputs": [
    {
     "data": {
      "text/plain": [
       "DataFrame[event: string, white_result: string, first_two: array<string>, ECO: string, EloDiff: int, Opening: string, game_complexity: int]"
      ]
     },
     "execution_count": 35,
     "metadata": {},
     "output_type": "execute_result"
    }
   ],
   "source": [
    "trainData.cache()"
   ]
  },
  {
   "cell_type": "markdown",
   "id": "462c42f2",
   "metadata": {},
   "source": [
    "Next we'll be defining our features vectors by creating a series of data transformations to convert the spark dataframe into a format that is uses for training.\n",
    "\n",
    "We use the StringIndexer to enumerate our categorical data, and we convert our EloDiff to a magnitude, as NaiveBayes does not function on negative values."
   ]
  },
  {
   "cell_type": "code",
   "execution_count": 36,
   "id": "6b3ca5e1",
   "metadata": {},
   "outputs": [],
   "source": [
    "opening_vectorizor = StringIndexer(inputCol=\"ECO\", outputCol=\"opening_ohe\")\n",
    "gametype_vectorizer = StringIndexer(inputCol=\"event\", outputCol=\"event_vector\")\n",
    "result_vectorizor = StringIndexer(inputCol=\"white_result\", outputCol=\"white_result_vector\")\n",
    "\n",
    "# NaiveBayes requires non-negative values; we transpose our ELODiff to ABS Value.\n",
    "df = df.withColumn('EloDiff', F.abs(F.col('EloDiff')))\n",
    "trainData = trainData.withColumn('EloDiff', F.abs(F.col('EloDiff')))\n",
    "testData = testData.withColumn('EloDiff', F.abs(F.col('EloDiff')))"
   ]
  },
  {
   "cell_type": "markdown",
   "id": "913112fa",
   "metadata": {},
   "source": [
    "Our opening moves column is still an array of categorical values.\n",
    "We convert this array into a OneHotEncoding value, so that each distinct value has its own category and indicator variable as part of the featureset."
   ]
  },
  {
   "cell_type": "code",
   "execution_count": 37,
   "id": "1d056924",
   "metadata": {},
   "outputs": [],
   "source": [
    "move_encoder = OneHotEncoder(inputCols=[\"opening_ohe\"],\n",
    "                             outputCols=[\"ECO_Type\"])"
   ]
  },
  {
   "cell_type": "markdown",
   "id": "e4d02207",
   "metadata": {},
   "source": [
    "Next we create a vectorizer for our first_two moves, meaning that we capture the first turn in the match and create a distinct indicator for each pair."
   ]
  },
  {
   "cell_type": "code",
   "execution_count": 38,
   "id": "3d7787fe",
   "metadata": {},
   "outputs": [],
   "source": [
    "firsttwo_vectorizer = CountVectorizer(inputCol=\"first_two\", outputCol=\"first_two_vectorizer\")"
   ]
  },
  {
   "cell_type": "markdown",
   "id": "0ed2ba01",
   "metadata": {},
   "source": [
    "As the final prep step, we create a number of feature column collections to use to build our model.\n",
    "Unlike linear regression, Naive Bayes doesn't have a parametric method to eliminate features, but by running multiple models we can demonstrate the importantce of some variables.\n",
    "\n",
    "We establish four collections:\n",
    "\n",
    "1. `full_features` Which covers all our selected features availabile.\n",
    "2. `moveless_features` Which covers all predictors but your moves.\n",
    "3. `only_moves_features` Covering only the `first_two` moves.\n",
    "4. `game_and_skill_features` Covering the chess match type and the magnitude of difference in Elo Score."
   ]
  },
  {
   "cell_type": "code",
   "execution_count": 40,
   "id": "5c530317",
   "metadata": {},
   "outputs": [],
   "source": [
    "models = {\n",
    "    'full_features': ['ECO_Type', \"EloDiff\", \"event_vector\", \"first_two_vectorizer\"],\n",
    "    'moveless_features': [\"EloDiff\", \"event_vector\"],\n",
    "    'only_moves_features': [\"first_two_vectorizer\"],\n",
    "    'game_and_skill_features': ['ECO_Type', \"EloDiff\"]\n",
    "}\n",
    "\n",
    "features = dict()\n",
    "\n",
    "for k,v in models.items():\n",
    "    features[k] = VectorAssembler(inputCols=v, outputCol='features')"
   ]
  },
  {
   "cell_type": "markdown",
   "id": "a7694aaa",
   "metadata": {},
   "source": [
    "Next we build our parameters to be used for our model building.\n",
    "For Naive Bayes, this means we need to specify the type (multinomial as this is a logistic result).\n",
    "We will also using a `BinaryClassificationEvaluator` in our crossvalidation model to measure the AUROC to determing what model is best.\n",
    "\n",
    "We then build a hyperparameter grid based on the Naive Bayes options.\n",
    "In this case, we have smoothing, which is a 0-1 point value that helps \"smooth\" irregularities that could come up when producing a result.\n",
    "We genearate multiple values to run during cross validation to see if this hyperparameter helps our model."
   ]
  },
  {
   "cell_type": "code",
   "execution_count": 41,
   "id": "cf94edd7",
   "metadata": {},
   "outputs": [],
   "source": [
    "nb = NaiveBayes(modelType=\"multinomial\", featuresCol='features', labelCol='white_result_vector')"
   ]
  },
  {
   "cell_type": "code",
   "execution_count": 42,
   "id": "af28b597",
   "metadata": {},
   "outputs": [],
   "source": [
    "auc_evaluator = BinaryClassificationEvaluator(labelCol='white_result_vector', metricName='areaUnderROC')"
   ]
  },
  {
   "cell_type": "code",
   "execution_count": 43,
   "id": "ed2f9dff",
   "metadata": {},
   "outputs": [],
   "source": [
    "SEED = 1337\n",
    "\n",
    "smoothing = [0.0, 0.2, 0.4, 0.6, 0.8, 1.0]\n",
    "grid = ParamGridBuilder()\\\n",
    "        .addGrid(nb.smoothing, smoothing)\\\n",
    "        .build()\n",
    "\n",
    "numFolds = 10\n",
    "\n",
    "crossval = CrossValidator(\n",
    "    estimator=nb,\n",
    "    estimatorParamMaps=grid,\n",
    "    evaluator=auc_evaluator,\n",
    "    numFolds=numFolds,\n",
    "    parallelism=7,\n",
    "    seed = SEED)"
   ]
  },
  {
   "cell_type": "markdown",
   "id": "884a6140",
   "metadata": {},
   "source": [
    "The next set of cells setup our pipeline operations, where there's a series of transformations athat apply to all models, and we add our unique features at the end of the pipeline to help manage the multiple models being built."
   ]
  },
  {
   "cell_type": "code",
   "execution_count": 45,
   "id": "c81f842f",
   "metadata": {},
   "outputs": [],
   "source": [
    "all_transforms = [opening_vectorizor,\n",
    "                  gametype_vectorizer,\n",
    "                  result_vectorizor,\n",
    "                  firsttwo_vectorizer,\n",
    "                  move_encoder]\n",
    "\n",
    "pipelines = dict()\n",
    "\n",
    "for k,v in features.items():\n",
    "    pipelines[k] = Pipeline(stages = all_transforms + [v])"
   ]
  },
  {
   "cell_type": "markdown",
   "id": "607c1d71",
   "metadata": {},
   "source": [
    "This next frame performs all the computation across each model.\n",
    "First it fits our model and testing/training dataset based on our earlier defined pipelines,\n",
    "then it proceeds to perform a crossvalidation training, ultimately identifying the performace of each hyperparameter model across our folds (10).\n",
    "Next we take the best model from our collection, retrain it using our training data nd then transform our testing data to evaluate its overall performance.\n",
    "\n",
    "From there we extract the predicted response against the actual result to determine our overall performance.\n",
    "This is then procesed with a MulticlassMetrics method, which requires transformation from the dataframe API to RDDs to function.\n",
    "This class provides for us the conflusion matrix showing the TP, FP, TN, FN values, as well as other digonistic measures of interest."
   ]
  },
  {
   "cell_type": "code",
   "execution_count": 53,
   "id": "3c3b526d",
   "metadata": {},
   "outputs": [
    {
     "name": "stdout",
     "output_type": "stream",
     "text": [
      "Modeling full_features\n",
      "CPU times: user 4 s, sys: 1.08 s, total: 5.08 s\n",
      "Wall time: 23min 47s\n",
      "Modeling moveless_features\n",
      "CPU times: user 2.65 s, sys: 703 ms, total: 3.35 s\n",
      "Wall time: 8min 7s\n",
      "Modeling only_moves_features\n",
      "CPU times: user 5.32 s, sys: 1.47 s, total: 6.79 s\n",
      "Wall time: 23min 23s\n",
      "Modeling game_and_skill_features\n",
      "CPU times: user 3.16 s, sys: 814 ms, total: 3.97 s\n",
      "Wall time: 8min 10s\n"
     ]
    }
   ],
   "source": [
    "# Create our transforms from our full dataset (considers all cases)\n",
    "\n",
    "tuning = dict()\n",
    "best_metrics = dict()\n",
    "confusionmatrix = dict()\n",
    "\n",
    "for k,v in pipelines.items():\n",
    "    print(\"Modeling {}\".format(k))\n",
    "    \n",
    "    # Fit to our pipeline, which includes the all_transforms as well as the 'k' model's distinct feature columns.\n",
    "    feature_model_df = v.fit(df)\n",
    "\n",
    "    # Transform both training and testing dfs\n",
    "    training_df = feature_model_df.transform(trainData)\n",
    "    testing_df = feature_model_df.transform(testData)\n",
    "    \n",
    "    \n",
    "    %time cvmodel = crossval.fit(training_df)\n",
    "    # Extract the performance of hyperparameters and capture performance.\n",
    "    tuning_params =  [ list(a.values())[0] for a in cvmodel.getEstimatorParamMaps() ]\n",
    "    tuning[k] = pd.DataFrame(list(zip(tuning_params, cvmodel.avgMetrics)), columns=['Parameter (smoothing)', 'AUC'])\n",
    "    # Get the best performing model (per metric)\n",
    "    nb_best = cvmodel.bestModel\n",
    "    ml_pipeline = Pipeline(stages=[nb_best])\n",
    "    \n",
    "    # Run the train/test model using the best model's pipeline as our guide\n",
    "    result = ml_pipeline.fit(training_df).transform(testing_df)\n",
    "    \n",
    "    # Convert the dataset to an RDD to collect performance measures and confusion matrix\n",
    "    metrics_rdd = MulticlassMetrics(result.select(['prediction','white_result_vector']).rdd.map(tuple))\n",
    "    confusionmatrix[k] = pd.DataFrame(metrics_rdd.confusionMatrix().toArray())\n",
    "\n",
    "    label = 1.0\n",
    "    best_metrics[k] = pd.DataFrame([['AUROC',     performance[k].loc[performance[k]['AUC'].idxmax()]['AUC']],\n",
    "                                    ['Accuracy',  metrics_rdd.accuracy],\n",
    "                                    ['Precision', metrics_rdd.precision(label)],\n",
    "                                    ['Recall',    metrics_rdd.recall(label)],\n",
    "                                    ['F1 Score',  metrics_rdd.fMeasure(label)]],\n",
    "                                  columns=['Predictors', 'Metric', 'Measure'])"
   ]
  },
  {
   "cell_type": "markdown",
   "id": "e87f4e55",
   "metadata": {},
   "source": [
    "With our training complete and our performance measures captured, let's now compare our models to each other."
   ]
  },
  {
   "cell_type": "markdown",
   "id": "149f435c",
   "metadata": {},
   "source": [
    "First, let's reivew the hyperparameter and crossvalidation metrics."
   ]
  },
  {
   "cell_type": "code",
   "execution_count": 101,
   "id": "447945a1",
   "metadata": {},
   "outputs": [
    {
     "data": {
      "text/html": [
       "<div>\n",
       "<style scoped>\n",
       "    .dataframe tbody tr th:only-of-type {\n",
       "        vertical-align: middle;\n",
       "    }\n",
       "\n",
       "    .dataframe tbody tr th {\n",
       "        vertical-align: top;\n",
       "    }\n",
       "\n",
       "    .dataframe thead th {\n",
       "        text-align: right;\n",
       "    }\n",
       "</style>\n",
       "<table border=\"1\" class=\"dataframe\">\n",
       "  <thead>\n",
       "    <tr style=\"text-align: right;\">\n",
       "      <th></th>\n",
       "      <th>predictors</th>\n",
       "      <th>Parameter (smoothing)</th>\n",
       "      <th>AUC</th>\n",
       "    </tr>\n",
       "  </thead>\n",
       "  <tbody>\n",
       "    <tr>\n",
       "      <th>0</th>\n",
       "      <td>full_features</td>\n",
       "      <td>0.0</td>\n",
       "      <td>0.5060930062144177</td>\n",
       "    </tr>\n",
       "    <tr>\n",
       "      <th>1</th>\n",
       "      <td>full_features</td>\n",
       "      <td>0.2</td>\n",
       "      <td>0.5029916290627848</td>\n",
       "    </tr>\n",
       "    <tr>\n",
       "      <th>2</th>\n",
       "      <td>full_features</td>\n",
       "      <td>0.4</td>\n",
       "      <td>0.5026768888753754</td>\n",
       "    </tr>\n",
       "    <tr>\n",
       "      <th>3</th>\n",
       "      <td>full_features</td>\n",
       "      <td>0.6</td>\n",
       "      <td>0.5024727198201369</td>\n",
       "    </tr>\n",
       "    <tr>\n",
       "      <th>4</th>\n",
       "      <td>full_features</td>\n",
       "      <td>0.8</td>\n",
       "      <td>0.5023166260388257</td>\n",
       "    </tr>\n",
       "    <tr>\n",
       "      <th>5</th>\n",
       "      <td>full_features</td>\n",
       "      <td>1.0</td>\n",
       "      <td>0.5021891734965269</td>\n",
       "    </tr>\n",
       "    <tr>\n",
       "      <th>6</th>\n",
       "      <td>moveless_features</td>\n",
       "      <td>0.0</td>\n",
       "      <td>0.4966434553272528</td>\n",
       "    </tr>\n",
       "    <tr>\n",
       "      <th>7</th>\n",
       "      <td>moveless_features</td>\n",
       "      <td>0.2</td>\n",
       "      <td>0.4966430156903316</td>\n",
       "    </tr>\n",
       "    <tr>\n",
       "      <th>8</th>\n",
       "      <td>moveless_features</td>\n",
       "      <td>0.4</td>\n",
       "      <td>0.4966424776469500</td>\n",
       "    </tr>\n",
       "    <tr>\n",
       "      <th>9</th>\n",
       "      <td>moveless_features</td>\n",
       "      <td>0.6</td>\n",
       "      <td>0.4966426164031298</td>\n",
       "    </tr>\n",
       "    <tr>\n",
       "      <th>10</th>\n",
       "      <td>moveless_features</td>\n",
       "      <td>0.8</td>\n",
       "      <td>0.4966419527308651</td>\n",
       "    </tr>\n",
       "    <tr>\n",
       "      <th>11</th>\n",
       "      <td>moveless_features</td>\n",
       "      <td>1.0</td>\n",
       "      <td>0.4966420143756903</td>\n",
       "    </tr>\n",
       "    <tr>\n",
       "      <th>12</th>\n",
       "      <td>only_moves_features</td>\n",
       "      <td>0.0</td>\n",
       "      <td>0.5136798597733342</td>\n",
       "    </tr>\n",
       "    <tr>\n",
       "      <th>13</th>\n",
       "      <td>only_moves_features</td>\n",
       "      <td>0.2</td>\n",
       "      <td>0.5129045870076084</td>\n",
       "    </tr>\n",
       "    <tr>\n",
       "      <th>14</th>\n",
       "      <td>only_moves_features</td>\n",
       "      <td>0.4</td>\n",
       "      <td>0.5128243590235337</td>\n",
       "    </tr>\n",
       "    <tr>\n",
       "      <th>15</th>\n",
       "      <td>only_moves_features</td>\n",
       "      <td>0.6</td>\n",
       "      <td>0.5127629640586742</td>\n",
       "    </tr>\n",
       "    <tr>\n",
       "      <th>16</th>\n",
       "      <td>only_moves_features</td>\n",
       "      <td>0.8</td>\n",
       "      <td>0.5127197985093652</td>\n",
       "    </tr>\n",
       "    <tr>\n",
       "      <th>17</th>\n",
       "      <td>only_moves_features</td>\n",
       "      <td>1.0</td>\n",
       "      <td>0.5124227976252328</td>\n",
       "    </tr>\n",
       "    <tr>\n",
       "      <th>18</th>\n",
       "      <td>game_and_skill_features</td>\n",
       "      <td>0.0</td>\n",
       "      <td>0.4965495819122152</td>\n",
       "    </tr>\n",
       "    <tr>\n",
       "      <th>19</th>\n",
       "      <td>game_and_skill_features</td>\n",
       "      <td>0.2</td>\n",
       "      <td>0.4965490430301499</td>\n",
       "    </tr>\n",
       "    <tr>\n",
       "      <th>20</th>\n",
       "      <td>game_and_skill_features</td>\n",
       "      <td>0.4</td>\n",
       "      <td>0.4965488933633536</td>\n",
       "    </tr>\n",
       "    <tr>\n",
       "      <th>21</th>\n",
       "      <td>game_and_skill_features</td>\n",
       "      <td>0.6</td>\n",
       "      <td>0.4965495528846868</td>\n",
       "    </tr>\n",
       "    <tr>\n",
       "      <th>22</th>\n",
       "      <td>game_and_skill_features</td>\n",
       "      <td>0.8</td>\n",
       "      <td>0.4965494378442635</td>\n",
       "    </tr>\n",
       "    <tr>\n",
       "      <th>23</th>\n",
       "      <td>game_and_skill_features</td>\n",
       "      <td>1.0</td>\n",
       "      <td>0.4965490533282646</td>\n",
       "    </tr>\n",
       "  </tbody>\n",
       "</table>\n",
       "</div>"
      ],
      "text/plain": [
       "                 predictors  Parameter (smoothing)                 AUC\n",
       "0             full_features                    0.0  0.5060930062144177\n",
       "1             full_features                    0.2  0.5029916290627848\n",
       "2             full_features                    0.4  0.5026768888753754\n",
       "3             full_features                    0.6  0.5024727198201369\n",
       "4             full_features                    0.8  0.5023166260388257\n",
       "5             full_features                    1.0  0.5021891734965269\n",
       "6         moveless_features                    0.0  0.4966434553272528\n",
       "7         moveless_features                    0.2  0.4966430156903316\n",
       "8         moveless_features                    0.4  0.4966424776469500\n",
       "9         moveless_features                    0.6  0.4966426164031298\n",
       "10        moveless_features                    0.8  0.4966419527308651\n",
       "11        moveless_features                    1.0  0.4966420143756903\n",
       "12      only_moves_features                    0.0  0.5136798597733342\n",
       "13      only_moves_features                    0.2  0.5129045870076084\n",
       "14      only_moves_features                    0.4  0.5128243590235337\n",
       "15      only_moves_features                    0.6  0.5127629640586742\n",
       "16      only_moves_features                    0.8  0.5127197985093652\n",
       "17      only_moves_features                    1.0  0.5124227976252328\n",
       "18  game_and_skill_features                    0.0  0.4965495819122152\n",
       "19  game_and_skill_features                    0.2  0.4965490430301499\n",
       "20  game_and_skill_features                    0.4  0.4965488933633536\n",
       "21  game_and_skill_features                    0.6  0.4965495528846868\n",
       "22  game_and_skill_features                    0.8  0.4965494378442635\n",
       "23  game_and_skill_features                    1.0  0.4965490533282646"
      ]
     },
     "execution_count": 101,
     "metadata": {},
     "output_type": "execute_result"
    },
    {
     "data": {
      "image/png": "[encoded data removed]",
      "text/plain": [
       "<Figure size 432x288 with 1 Axes>"
      ]
     },
     "metadata": {
      "needs_background": "light"
     },
     "output_type": "display_data"
    }
   ],
   "source": [
    "tuning_df = pd.DataFrame(columns=[\"predictors\", \"Parameter (smoothing)\", \"AUC\"])\n",
    "for k,v in tuning.items():\n",
    "    mydf = v.copy()\n",
    "    mydf['predictors'] = k\n",
    "    tuning_df = tuning_df.append(mydf, ignore_index=True)\n",
    "    \n",
    "ax3 = sns.barplot(data=tuning_df, x='AUC', y='Parameter (smoothing)', hue='predictors', orient=\"h\")\n",
    "ax3.legend(bbox_to_anchor=(1.05, 1), loc=2, borderaxespad=0.0)\n",
    "ax3.set(xlim=(0.495, 0.515))\n",
    "tuning_df"
   ]
  },
  {
   "cell_type": "markdown",
   "id": "eb9f744e",
   "metadata": {},
   "source": [
    "First we see that cross validation and hyperparameter tuning doesn't have too extreme of an effect, where the full_feature benifits the most from the tuning."
   ]
  },
  {
   "cell_type": "markdown",
   "id": "8830ad7a",
   "metadata": {},
   "source": [
    "Next let's review the performance measures of each model."
   ]
  },
  {
   "cell_type": "code",
   "execution_count": 103,
   "id": "fe43bdd7",
   "metadata": {},
   "outputs": [
    {
     "data": {
      "text/html": [
       "<div>\n",
       "<style scoped>\n",
       "    .dataframe tbody tr th:only-of-type {\n",
       "        vertical-align: middle;\n",
       "    }\n",
       "\n",
       "    .dataframe tbody tr th {\n",
       "        vertical-align: top;\n",
       "    }\n",
       "\n",
       "    .dataframe thead th {\n",
       "        text-align: right;\n",
       "    }\n",
       "</style>\n",
       "<table border=\"1\" class=\"dataframe\">\n",
       "  <thead>\n",
       "    <tr style=\"text-align: right;\">\n",
       "      <th></th>\n",
       "      <th>predictors</th>\n",
       "      <th>Metric</th>\n",
       "      <th>Measure</th>\n",
       "    </tr>\n",
       "  </thead>\n",
       "  <tbody>\n",
       "    <tr>\n",
       "      <th>0</th>\n",
       "      <td>full_features</td>\n",
       "      <td>AUROC</td>\n",
       "      <td>0.5060930062144177</td>\n",
       "    </tr>\n",
       "    <tr>\n",
       "      <th>1</th>\n",
       "      <td>full_features</td>\n",
       "      <td>Accuracy</td>\n",
       "      <td>0.5357989900719821</td>\n",
       "    </tr>\n",
       "    <tr>\n",
       "      <th>2</th>\n",
       "      <td>full_features</td>\n",
       "      <td>Precision</td>\n",
       "      <td>0.5338984422925050</td>\n",
       "    </tr>\n",
       "    <tr>\n",
       "      <th>3</th>\n",
       "      <td>full_features</td>\n",
       "      <td>Recall</td>\n",
       "      <td>0.5167212201406783</td>\n",
       "    </tr>\n",
       "    <tr>\n",
       "      <th>4</th>\n",
       "      <td>full_features</td>\n",
       "      <td>F1 Score</td>\n",
       "      <td>0.5251694107716850</td>\n",
       "    </tr>\n",
       "    <tr>\n",
       "      <th>5</th>\n",
       "      <td>moveless_features</td>\n",
       "      <td>AUROC</td>\n",
       "      <td>0.4966434553272528</td>\n",
       "    </tr>\n",
       "    <tr>\n",
       "      <th>6</th>\n",
       "      <td>moveless_features</td>\n",
       "      <td>Accuracy</td>\n",
       "      <td>0.5310849547020124</td>\n",
       "    </tr>\n",
       "    <tr>\n",
       "      <th>7</th>\n",
       "      <td>moveless_features</td>\n",
       "      <td>Precision</td>\n",
       "      <td>0.5293308415568629</td>\n",
       "    </tr>\n",
       "    <tr>\n",
       "      <th>8</th>\n",
       "      <td>moveless_features</td>\n",
       "      <td>Recall</td>\n",
       "      <td>0.5064576223971029</td>\n",
       "    </tr>\n",
       "    <tr>\n",
       "      <th>9</th>\n",
       "      <td>moveless_features</td>\n",
       "      <td>F1 Score</td>\n",
       "      <td>0.5176416784040587</td>\n",
       "    </tr>\n",
       "    <tr>\n",
       "      <th>10</th>\n",
       "      <td>only_moves_features</td>\n",
       "      <td>AUROC</td>\n",
       "      <td>0.5136798597733342</td>\n",
       "    </tr>\n",
       "    <tr>\n",
       "      <th>11</th>\n",
       "      <td>only_moves_features</td>\n",
       "      <td>Accuracy</td>\n",
       "      <td>0.5331772944377843</td>\n",
       "    </tr>\n",
       "    <tr>\n",
       "      <th>12</th>\n",
       "      <td>only_moves_features</td>\n",
       "      <td>Precision</td>\n",
       "      <td>0.5314270583199727</td>\n",
       "    </tr>\n",
       "    <tr>\n",
       "      <th>13</th>\n",
       "      <td>only_moves_features</td>\n",
       "      <td>Recall</td>\n",
       "      <td>0.5101573925760847</td>\n",
       "    </tr>\n",
       "    <tr>\n",
       "      <th>14</th>\n",
       "      <td>only_moves_features</td>\n",
       "      <td>F1 Score</td>\n",
       "      <td>0.5205750569407284</td>\n",
       "    </tr>\n",
       "    <tr>\n",
       "      <th>15</th>\n",
       "      <td>game_and_skill_features</td>\n",
       "      <td>AUROC</td>\n",
       "      <td>0.4965495819122152</td>\n",
       "    </tr>\n",
       "    <tr>\n",
       "      <th>16</th>\n",
       "      <td>game_and_skill_features</td>\n",
       "      <td>Accuracy</td>\n",
       "      <td>0.5311282027329296</td>\n",
       "    </tr>\n",
       "    <tr>\n",
       "      <th>17</th>\n",
       "      <td>game_and_skill_features</td>\n",
       "      <td>Precision</td>\n",
       "      <td>0.5294314972717047</td>\n",
       "    </tr>\n",
       "    <tr>\n",
       "      <th>18</th>\n",
       "      <td>game_and_skill_features</td>\n",
       "      <td>Recall</td>\n",
       "      <td>0.5056044989205376</td>\n",
       "    </tr>\n",
       "    <tr>\n",
       "      <th>19</th>\n",
       "      <td>game_and_skill_features</td>\n",
       "      <td>F1 Score</td>\n",
       "      <td>0.5172437439385291</td>\n",
       "    </tr>\n",
       "  </tbody>\n",
       "</table>\n",
       "</div>"
      ],
      "text/plain": [
       "                 predictors     Metric             Measure\n",
       "0             full_features      AUROC  0.5060930062144177\n",
       "1             full_features   Accuracy  0.5357989900719821\n",
       "2             full_features  Precision  0.5338984422925050\n",
       "3             full_features     Recall  0.5167212201406783\n",
       "4             full_features   F1 Score  0.5251694107716850\n",
       "5         moveless_features      AUROC  0.4966434553272528\n",
       "6         moveless_features   Accuracy  0.5310849547020124\n",
       "7         moveless_features  Precision  0.5293308415568629\n",
       "8         moveless_features     Recall  0.5064576223971029\n",
       "9         moveless_features   F1 Score  0.5176416784040587\n",
       "10      only_moves_features      AUROC  0.5136798597733342\n",
       "11      only_moves_features   Accuracy  0.5331772944377843\n",
       "12      only_moves_features  Precision  0.5314270583199727\n",
       "13      only_moves_features     Recall  0.5101573925760847\n",
       "14      only_moves_features   F1 Score  0.5205750569407284\n",
       "15  game_and_skill_features      AUROC  0.4965495819122152\n",
       "16  game_and_skill_features   Accuracy  0.5311282027329296\n",
       "17  game_and_skill_features  Precision  0.5294314972717047\n",
       "18  game_and_skill_features     Recall  0.5056044989205376\n",
       "19  game_and_skill_features   F1 Score  0.5172437439385291"
      ]
     },
     "execution_count": 103,
     "metadata": {},
     "output_type": "execute_result"
    },
    {
     "data": {
      "image/png": "[encoded data removed]",
      "text/plain": [
       "<Figure size 432x288 with 1 Axes>"
      ]
     },
     "metadata": {
      "needs_background": "light"
     },
     "output_type": "display_data"
    }
   ],
   "source": [
    "# recompose hierarcical data to dataframe\n",
    "performance_df = pd.DataFrame(columns=[\"predictors\", 'Metric', 'Measure'])\n",
    "for k,v in best_metrics.items():\n",
    "    mydf = v.copy()\n",
    "    mydf['predictors'] = k\n",
    "    performance_df = performance_df.append(mydf, ignore_index=True)\n",
    "\n",
    "# Plot the performances of each metric\n",
    "ax2 = sns.barplot(data=performance_df, x='Measure', y='Metric', hue='predictors', orient=\"h\")\n",
    "ax2.legend(bbox_to_anchor=(1.05, 1), loc=2, borderaxespad=0.0)\n",
    "ax2.set(xlim=(0.495, 0.54))\n",
    "performance_df"
   ]
  },
  {
   "cell_type": "markdown",
   "id": "33bf276d",
   "metadata": {},
   "source": [
    "Here we see that only the full_features and only_moves_features featuresets are better than guessing (and not by much).\n",
    "We do see a bit of promise in the full_features collection with the higest accuracy and precision.\n",
    "\n",
    "Howver, the key insight here is that all models perform relatively the same, where the moves set appears to add about 1% better accountability."
   ]
  },
  {
   "cell_type": "markdown",
   "id": "b55cadf4",
   "metadata": {},
   "source": [
    "Finally, let's check our confusion matrices to make sure our models appear to have logical measures, as that no category equals zero."
   ]
  },
  {
   "cell_type": "code",
   "execution_count": 104,
   "id": "1f548d03",
   "metadata": {},
   "outputs": [
    {
     "data": {
      "text/html": [
       "<strong>full_features</strong><br/>"
      ],
      "text/plain": [
       "<IPython.core.display.HTML object>"
      ]
     },
     "metadata": {},
     "output_type": "display_data"
    },
    {
     "data": {
      "text/html": [
       "<div>\n",
       "<style scoped>\n",
       "    .dataframe tbody tr th:only-of-type {\n",
       "        vertical-align: middle;\n",
       "    }\n",
       "\n",
       "    .dataframe tbody tr th {\n",
       "        vertical-align: top;\n",
       "    }\n",
       "\n",
       "    .dataframe thead th {\n",
       "        text-align: right;\n",
       "    }\n",
       "</style>\n",
       "<table border=\"1\" class=\"dataframe\">\n",
       "  <thead>\n",
       "    <tr style=\"text-align: right;\">\n",
       "      <th></th>\n",
       "      <th>0</th>\n",
       "      <th>1</th>\n",
       "    </tr>\n",
       "  </thead>\n",
       "  <tbody>\n",
       "    <tr>\n",
       "      <th>0</th>\n",
       "      <td>322665.0</td>\n",
       "      <td>259097.0</td>\n",
       "    </tr>\n",
       "    <tr>\n",
       "      <th>1</th>\n",
       "      <td>277576.0</td>\n",
       "      <td>296784.0</td>\n",
       "    </tr>\n",
       "  </tbody>\n",
       "</table>\n",
       "</div>"
      ],
      "text/plain": [
       "          0         1\n",
       "0  322665.0  259097.0\n",
       "1  277576.0  296784.0"
      ]
     },
     "metadata": {},
     "output_type": "display_data"
    },
    {
     "data": {
      "text/html": [
       "<br/>"
      ],
      "text/plain": [
       "<IPython.core.display.HTML object>"
      ]
     },
     "metadata": {},
     "output_type": "display_data"
    },
    {
     "data": {
      "text/html": [
       "<strong>moveless_features</strong><br/>"
      ],
      "text/plain": [
       "<IPython.core.display.HTML object>"
      ]
     },
     "metadata": {},
     "output_type": "display_data"
    },
    {
     "data": {
      "text/html": [
       "<div>\n",
       "<style scoped>\n",
       "    .dataframe tbody tr th:only-of-type {\n",
       "        vertical-align: middle;\n",
       "    }\n",
       "\n",
       "    .dataframe tbody tr th {\n",
       "        vertical-align: top;\n",
       "    }\n",
       "\n",
       "    .dataframe thead th {\n",
       "        text-align: right;\n",
       "    }\n",
       "</style>\n",
       "<table border=\"1\" class=\"dataframe\">\n",
       "  <thead>\n",
       "    <tr style=\"text-align: right;\">\n",
       "      <th></th>\n",
       "      <th>0</th>\n",
       "      <th>1</th>\n",
       "    </tr>\n",
       "  </thead>\n",
       "  <tbody>\n",
       "    <tr>\n",
       "      <th>0</th>\n",
       "      <td>323110.0</td>\n",
       "      <td>258652.0</td>\n",
       "    </tr>\n",
       "    <tr>\n",
       "      <th>1</th>\n",
       "      <td>283471.0</td>\n",
       "      <td>290889.0</td>\n",
       "    </tr>\n",
       "  </tbody>\n",
       "</table>\n",
       "</div>"
      ],
      "text/plain": [
       "          0         1\n",
       "0  323110.0  258652.0\n",
       "1  283471.0  290889.0"
      ]
     },
     "metadata": {},
     "output_type": "display_data"
    },
    {
     "data": {
      "text/html": [
       "<br/>"
      ],
      "text/plain": [
       "<IPython.core.display.HTML object>"
      ]
     },
     "metadata": {},
     "output_type": "display_data"
    },
    {
     "data": {
      "text/html": [
       "<strong>only_moves_features</strong><br/>"
      ],
      "text/plain": [
       "<IPython.core.display.HTML object>"
      ]
     },
     "metadata": {},
     "output_type": "display_data"
    },
    {
     "data": {
      "text/html": [
       "<div>\n",
       "<style scoped>\n",
       "    .dataframe tbody tr th:only-of-type {\n",
       "        vertical-align: middle;\n",
       "    }\n",
       "\n",
       "    .dataframe tbody tr th {\n",
       "        vertical-align: top;\n",
       "    }\n",
       "\n",
       "    .dataframe thead th {\n",
       "        text-align: right;\n",
       "    }\n",
       "</style>\n",
       "<table border=\"1\" class=\"dataframe\">\n",
       "  <thead>\n",
       "    <tr style=\"text-align: right;\">\n",
       "      <th></th>\n",
       "      <th>0</th>\n",
       "      <th>1</th>\n",
       "    </tr>\n",
       "  </thead>\n",
       "  <tbody>\n",
       "    <tr>\n",
       "      <th>0</th>\n",
       "      <td>323404.0</td>\n",
       "      <td>258358.0</td>\n",
       "    </tr>\n",
       "    <tr>\n",
       "      <th>1</th>\n",
       "      <td>281346.0</td>\n",
       "      <td>293014.0</td>\n",
       "    </tr>\n",
       "  </tbody>\n",
       "</table>\n",
       "</div>"
      ],
      "text/plain": [
       "          0         1\n",
       "0  323404.0  258358.0\n",
       "1  281346.0  293014.0"
      ]
     },
     "metadata": {},
     "output_type": "display_data"
    },
    {
     "data": {
      "text/html": [
       "<br/>"
      ],
      "text/plain": [
       "<IPython.core.display.HTML object>"
      ]
     },
     "metadata": {},
     "output_type": "display_data"
    },
    {
     "data": {
      "text/html": [
       "<strong>game_and_skill_features</strong><br/>"
      ],
      "text/plain": [
       "<IPython.core.display.HTML object>"
      ]
     },
     "metadata": {},
     "output_type": "display_data"
    },
    {
     "data": {
      "text/html": [
       "<div>\n",
       "<style scoped>\n",
       "    .dataframe tbody tr th:only-of-type {\n",
       "        vertical-align: middle;\n",
       "    }\n",
       "\n",
       "    .dataframe tbody tr th {\n",
       "        vertical-align: top;\n",
       "    }\n",
       "\n",
       "    .dataframe thead th {\n",
       "        text-align: right;\n",
       "    }\n",
       "</style>\n",
       "<table border=\"1\" class=\"dataframe\">\n",
       "  <thead>\n",
       "    <tr style=\"text-align: right;\">\n",
       "      <th></th>\n",
       "      <th>0</th>\n",
       "      <th>1</th>\n",
       "    </tr>\n",
       "  </thead>\n",
       "  <tbody>\n",
       "    <tr>\n",
       "      <th>0</th>\n",
       "      <td>323650.0</td>\n",
       "      <td>258112.0</td>\n",
       "    </tr>\n",
       "    <tr>\n",
       "      <th>1</th>\n",
       "      <td>283961.0</td>\n",
       "      <td>290399.0</td>\n",
       "    </tr>\n",
       "  </tbody>\n",
       "</table>\n",
       "</div>"
      ],
      "text/plain": [
       "          0         1\n",
       "0  323650.0  258112.0\n",
       "1  283961.0  290399.0"
      ]
     },
     "metadata": {},
     "output_type": "display_data"
    },
    {
     "data": {
      "text/html": [
       "<br/>"
      ],
      "text/plain": [
       "<IPython.core.display.HTML object>"
      ]
     },
     "metadata": {},
     "output_type": "display_data"
    }
   ],
   "source": [
    "from IPython.display import HTML\n",
    "\n",
    "for k,v in confusionmatrix.items():\n",
    "    display(HTML(f\"<strong>{k}</strong><br/>\"))\n",
    "    display(v)\n",
    "    display(HTML(\"<br/>\"))"
   ]
  }
 ],
 "metadata": {
  "kernelspec": {
   "display_name": "DS 5110 Spark 3.1",
   "language": "python",
   "name": "ds5110_spark3.1"
  },
  "language_info": {
   "codemirror_mode": {
    "name": "ipython",
    "version": 3
   },
   "file_extension": ".py",
   "mimetype": "text/x-python",
   "name": "python",
   "nbconvert_exporter": "python",
   "pygments_lexer": "ipython3",
   "version": "3.7.10"
  }
 },
 "nbformat": 4,
 "nbformat_minor": 5
}
